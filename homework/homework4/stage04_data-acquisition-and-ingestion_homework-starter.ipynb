{
 "cells": [
  {
   "cell_type": "markdown",
   "id": "e41abb36",
   "metadata": {},
   "source": [
    "# Homework Starter — Stage 04: Data Acquisition and Ingestion\n",
    "Name: \n",
    "Date: \n",
    "\n",
    "## Objectives\n",
    "- API ingestion with secrets in `.env`\n",
    "- Scrape a permitted public table\n",
    "- Validate and save raw data to `data/raw/`"
   ]
  },
  {
   "cell_type": "code",
   "execution_count": 2,
   "id": "d62f4d3f",
   "metadata": {},
   "outputs": [
    {
     "name": "stdout",
     "output_type": "stream",
     "text": [
      "ALPHAVANTAGE_API_KEY loaded? True\n"
     ]
    }
   ],
   "source": [
    "from dotenv import load_dotenv\n",
    "import os\n",
    "\n",
    "load_dotenv()\n",
    "print('ALPHAVANTAGE_API_KEY loaded?', bool(os.getenv('ALPHAVANTAGE_API_KEY')))"
   ]
  },
  {
   "cell_type": "code",
   "execution_count": 3,
   "id": "09196727-6852-4ae1-aa2c-5c9b31f111b0",
   "metadata": {},
   "outputs": [
    {
     "name": "stderr",
     "output_type": "stream",
     "text": [
      "C:\\Users\\qochi\\anaconda3\\envs\\bootcamp_env\\lib\\site-packages\\requests\\__init__.py:86: RequestsDependencyWarning: Unable to find acceptable character detection dependency (chardet or charset_normalizer).\n",
      "  warnings.warn(\n"
     ]
    },
    {
     "name": "stdout",
     "output_type": "stream",
     "text": [
      "ALPHAVANTAGE_API_KEY loaded? True\n"
     ]
    }
   ],
   "source": [
    "import os, pathlib, datetime as dt\n",
    "import requests\n",
    "import pandas as pd\n",
    "from bs4 import BeautifulSoup\n",
    "from dotenv import load_dotenv\n",
    "\n",
    "RAW = pathlib.Path('data/raw'); RAW.mkdir(parents=True, exist_ok=True)\n",
    "load_dotenv(); print('ALPHAVANTAGE_API_KEY loaded?', bool(os.getenv('ALPHAVANTAGE_API_KEY')))"
   ]
  },
  {
   "cell_type": "markdown",
   "id": "9ded2304",
   "metadata": {},
   "source": [
    "## Helpers (use or modify)"
   ]
  },
  {
   "cell_type": "code",
   "execution_count": 4,
   "id": "74420942",
   "metadata": {},
   "outputs": [],
   "source": [
    "def ts():\n",
    "    return dt.datetime.now().strftime('%Y%m%d-%H%M%S')\n",
    "\n",
    "def save_csv(df: pd.DataFrame, prefix: str, **meta):\n",
    "    mid = '_'.join([f\"{k}-{v}\" for k,v in meta.items()])\n",
    "    path = RAW / f\"{prefix}_{mid}_{ts()}.csv\"\n",
    "    df.to_csv(path, index=False)\n",
    "    print('Saved', path)\n",
    "    return path\n",
    "\n",
    "def validate(df: pd.DataFrame, required):\n",
    "    missing = [c for c in required if c not in df.columns]\n",
    "    return {'missing': missing, 'shape': df.shape, 'na_total': int(df.isna().sum().sum())}"
   ]
  },
  {
   "cell_type": "markdown",
   "id": "f116a053",
   "metadata": {},
   "source": [
    "## Part 1 — API Pull (Required)\n",
    "Choose an endpoint (e.g., Alpha Vantage or use `yfinance` fallback)."
   ]
  },
  {
   "cell_type": "code",
   "execution_count": 7,
   "id": "662f35ff",
   "metadata": {},
   "outputs": [],
   "source": [
    "# SYMBOL = 'AAPL'\n",
    "# USE_ALPHA = bool(os.getenv('ALPHAVANTAGE_API_KEY'))\n",
    "# if USE_ALPHA:\n",
    "#     url = 'https://www.alphavantage.co/query'\n",
    "#     params = {'function':'TIME_SERIES_DAILY_ADJUSTED','symbol':SYMBOL,'outputsize':'compact','apikey':os.getenv('ALPHAVANTAGE_API_KEY')}\n",
    "#     r = requests.get(url, params=params, timeout=30)\n",
    "#     r.raise_for_status()\n",
    "#     js = r.json()\n",
    "#     key = [k for k in js if 'Time Series' in k][0]\n",
    "#     df_api = pd.DataFrame(js[key]).T.reset_index().rename(columns={'index':'date','5. adjusted close':'adj_close'})[['date','adj_close']]\n",
    "#     df_api['date'] = pd.to_datetime(df_api['date']); df_api['adj_close'] = pd.to_numeric(df_api['adj_close'])\n",
    "# else:\n",
    "#     import yfinance as yf\n",
    "#     df_api = yf.download(SYMBOL, period='3mo', interval='1d').reset_index()[['Date','Adj Close']]\n",
    "#     df_api.columns = ['date','adj_close']\n",
    "\n",
    "# v_api = validate(df_api, ['date','adj_close']); v_api"
   ]
  },
  {
   "cell_type": "code",
   "execution_count": 8,
   "id": "cdee512e",
   "metadata": {},
   "outputs": [
    {
     "name": "stdout",
     "output_type": "stream",
     "text": [
      "Validation: {'missing': [], 'shape': (100, 2), 'na_total': 0}\n"
     ]
    }
   ],
   "source": [
    "SYMBOL = 'AAPL'\n",
    "df_api = None\n",
    "USE_ALPHA = bool(os.getenv('ALPHAVANTAGE_API_KEY'))\n",
    "\n",
    "if USE_ALPHA:\n",
    "    try:\n",
    "        url = 'https://www.alphavantage.co/query'\n",
    "        params = {\n",
    "            'function':'TIME_SERIES_DAILY',  # free endpoint\n",
    "            'symbol': SYMBOL,\n",
    "            'outputsize':'compact',\n",
    "            'apikey': os.getenv('ALPHAVANTAGE_API_KEY')\n",
    "        }\n",
    "        r = requests.get(url, params=params, timeout=30)\n",
    "        r.raise_for_status()\n",
    "        js = r.json()\n",
    "        # Debug: see what we got\n",
    "        # print(js)\n",
    "        key_list = [k for k in js if 'Time Series' in k]\n",
    "        if key_list:\n",
    "            key = key_list[0]\n",
    "            df_api = pd.DataFrame(js[key]).T.reset_index().rename(\n",
    "                columns={'index':'date','4. close':'adj_close'}\n",
    "            )[['date','adj_close']]\n",
    "            df_api['date'] = pd.to_datetime(df_api['date'])\n",
    "            df_api['adj_close'] = pd.to_numeric(df_api['adj_close'])\n",
    "        else:\n",
    "            print(\"Alpha Vantage did not return time series. Using yfinance fallback.\")\n",
    "    except Exception as e:\n",
    "        print(\"Alpha Vantage request failed:\", e)\n",
    "\n",
    "# Fallback to yfinance if Alpha Vantage fails\n",
    "if df_api is None:\n",
    "    import yfinance as yf\n",
    "    df_api = yf.download(SYMBOL, period='3mo', interval='1d').reset_index()[['Date','Adj Close']]\n",
    "    df_api.columns = ['date','adj_close']\n",
    "\n",
    "# Validate\n",
    "v_api = validate(df_api, ['date','adj_close'])\n",
    "print(\"Validation:\", v_api)\n"
   ]
  },
  {
   "cell_type": "code",
   "execution_count": 9,
   "id": "2da80f68-80c7-4d6d-8c16-8762ae8b4925",
   "metadata": {},
   "outputs": [
    {
     "name": "stdout",
     "output_type": "stream",
     "text": [
      "Saved data\\raw\\api_source-alpha_symbol-AAPL_20250820-000752.csv\n"
     ]
    }
   ],
   "source": [
    "_ = save_csv(df_api.sort_values('date'), prefix='api', source='alpha' if USE_ALPHA else 'yfinance', symbol=SYMBOL)"
   ]
  },
  {
   "cell_type": "markdown",
   "id": "5f5e763c",
   "metadata": {},
   "source": [
    "## Part 2 — Scrape a Public Table (Required)\n",
    "Replace `SCRAPE_URL` with a permitted page containing a simple table."
   ]
  },
  {
   "cell_type": "code",
   "execution_count": 10,
   "id": "be4d2ab1",
   "metadata": {},
   "outputs": [
    {
     "data": {
      "text/plain": [
       "{'missing': [], 'shape': (880, 8), 'na_total': 758}"
      ]
     },
     "execution_count": 10,
     "metadata": {},
     "output_type": "execute_result"
    }
   ],
   "source": [
    "#SCRAPE_URL = 'https://example.com/markets-table'  # TODO: replace with permitted page\n",
    "SCRAPE_URL = 'https://en.wikipedia.org/wiki/List_of_S%26P_500_companies'\n",
    "\n",
    "headers = {'User-Agent':'AFE-Homework/1.0'}\n",
    "try:\n",
    "    resp = requests.get(SCRAPE_URL, headers=headers, timeout=30); resp.raise_for_status()\n",
    "    soup = BeautifulSoup(resp.text, 'html.parser')\n",
    "    rows = [[c.get_text(strip=True) for c in tr.find_all(['th','td'])] for tr in soup.find_all('tr')]\n",
    "    header, *data = [r for r in rows if r]\n",
    "    df_scrape = pd.DataFrame(data, columns=header)\n",
    "except Exception as e:\n",
    "    print('Scrape failed, using inline demo table:', e)\n",
    "    html = '<table><tr><th>Ticker</th><th>Price</th></tr><tr><td>AAA</td><td>101.2</td></tr></table>'\n",
    "    soup = BeautifulSoup(html, 'html.parser')\n",
    "    rows = [[c.get_text(strip=True) for c in tr.find_all(['th','td'])] for tr in soup.find_all('tr')]\n",
    "    header, *data = [r for r in rows if r]\n",
    "    df_scrape = pd.DataFrame(data, columns=header)\n",
    "\n",
    "if 'Price' in df_scrape.columns:\n",
    "    df_scrape['Price'] = pd.to_numeric(df_scrape['Price'], errors='coerce')\n",
    "v_scrape = validate(df_scrape, list(df_scrape.columns)); v_scrape"
   ]
  },
  {
   "cell_type": "code",
   "execution_count": 11,
   "id": "2f7b6bce",
   "metadata": {},
   "outputs": [
    {
     "name": "stdout",
     "output_type": "stream",
     "text": [
      "Saved data\\raw\\scrape_site-example_table-markets_20250820-001155.csv\n"
     ]
    }
   ],
   "source": [
    "_ = save_csv(df_scrape, prefix='scrape', site='example', table='markets')"
   ]
  },
  {
   "cell_type": "markdown",
   "id": "44999b15",
   "metadata": {},
   "source": [
    "## Documentation\n",
    "- API Source: (URL/endpoint/params)\n",
    "- Scrape Source: (URL/table description)\n",
    "- Assumptions & risks: (rate limits, selector fragility, schema changes)\n",
    "- Confirm `.env` is not committed."
   ]
  },
  {
   "cell_type": "markdown",
   "id": "08304177-d5e4-4317-adb7-1518364b284f",
   "metadata": {},
   "source": [
    "**API_SOURCE**\n",
    "\n",
    "\n",
    "Alpha Vantage (function=TIME_SERIES_DAILY_ADJUSTED, symbol=AAPL)\n",
    "\n",
    "Fallback: Yahoo Finance yfinance\n"
   ]
  },
  {
   "cell_type": "markdown",
   "id": "65f62dc5-4029-414a-a375-50fa47b5c670",
   "metadata": {},
   "source": [
    "**SCRAPE_SOURCE**\n",
    "  \n",
    "Wikipedia — List of S&P 500 companies (https://en.wikipedia.org/wiki/List_of_S%26P_500_companies)\n"
   ]
  },
  {
   "cell_type": "markdown",
   "id": "03dfa05e-620c-4f4a-a5b9-59e155eb7fd3",
   "metadata": {},
   "source": [
    "**Assumptions & risks:**\n",
    "\n",
    "API may have rate limits\n",
    "\n",
    "Wikipedia schema may change (columns renamed, etc.)\n",
    "\n",
    "Internet connection required"
   ]
  },
  {
   "cell_type": "code",
   "execution_count": null,
   "id": "849a65a0-9205-4da6-bcdf-bb33cca3c292",
   "metadata": {},
   "outputs": [],
   "source": []
  }
 ],
 "metadata": {
  "kernelspec": {
   "display_name": "Python 3 (ipykernel)",
   "language": "python",
   "name": "python3"
  },
  "language_info": {
   "codemirror_mode": {
    "name": "ipython",
    "version": 3
   },
   "file_extension": ".py",
   "mimetype": "text/x-python",
   "name": "python",
   "nbconvert_exporter": "python",
   "pygments_lexer": "ipython3",
   "version": "3.10.18"
  }
 },
 "nbformat": 4,
 "nbformat_minor": 5
}

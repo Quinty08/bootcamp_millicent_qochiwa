{
 "cells": [
  {
   "cell_type": "markdown",
   "id": "0dc21264",
   "metadata": {},
   "source": [
    "# Stage 09 — Homework Starter Notebook\n",
    "\n",
    "In the lecture, we learned how to create engineered features. Now it’s your turn to apply those ideas to your own project data."
   ]
  },
  {
   "cell_type": "code",
   "execution_count": null,
   "id": "4eda0f93",
   "metadata": {},
   "outputs": [],
   "source": [
    "# import pandas as pd\n",
    "# import numpy as np\n",
    "\n",
    "# # Example synthetic data (replace with your project dataset)\n",
    "# np.random.seed(0)\n",
    "# n = 100\n",
    "# df = pd.DataFrame({\n",
    "#     'income': np.random.normal(60000, 15000, n).astype(int),\n",
    "#     'monthly_spend': np.random.normal(2000, 600, n).astype(int),\n",
    "#     'credit_score': np.random.normal(680, 50, n).astype(int)\n",
    "# })\n",
    "# df.head()"
   ]
  },
  {
   "cell_type": "code",
   "execution_count": 2,
   "id": "b3139502-87db-4f11-b4f7-3b4d55be34f6",
   "metadata": {},
   "outputs": [],
   "source": [
    "import pandas as pd\n",
    "\n",
    "df=pd.read_excel('../data/project_dataset.xlsx')"
   ]
  },
  {
   "cell_type": "code",
   "execution_count": 3,
   "id": "a4b6dfc9-0195-449f-a449-4c74eb53dc72",
   "metadata": {},
   "outputs": [
    {
     "data": {
      "text/plain": [
       "['.ipynb_checkpoints', 'project_dataset.xlsx']"
      ]
     },
     "execution_count": 3,
     "metadata": {},
     "output_type": "execute_result"
    }
   ],
   "source": [
    "import os\n",
    "\n",
    "os.listdir(\"../data\")\n"
   ]
  },
  {
   "cell_type": "markdown",
   "id": "14a92058",
   "metadata": {},
   "source": [
    "## TODO: Implement at least 2 engineered features here"
   ]
  },
  {
   "cell_type": "code",
   "execution_count": 5,
   "id": "9500d450",
   "metadata": {},
   "outputs": [],
   "source": [
    "# # Example template:\n",
    "# df['spend_income_ratio'] = df['monthly_spend'] / df['income']  # TODO: Your feature\n",
    "# # Add rationale in markdown below\n",
    "\n",
    "#Feature 1: Credit Utilization Proxy (Spend ÷ Credit Score)\n",
    "df['credit_utilization_proxy'] = df['monthly_spend'] / df['credit_score']\n",
    "\n"
   ]
  },
  {
   "cell_type": "markdown",
   "id": "67197bc5",
   "metadata": {},
   "source": [
    "### Rationale for Feature 1\n",
    "\n",
    "This feature estimates how much customers are spending relative to their credit quality. A high monthly spend compared to a low credit score could indicate risky financial behavior."
   ]
  },
  {
   "cell_type": "code",
   "execution_count": 6,
   "id": "69fe6d34",
   "metadata": {},
   "outputs": [],
   "source": [
    "# TODO: Add another feature\n",
    "# Example: df['rolling_spend_mean'] = df['monthly_spend'].rolling(3).mean()\n",
    "\n",
    "# Average income by region\n",
    "region_income_mean = df.groupby('region')['income'].transform('mean')\n",
    "\n",
    "# Feature: deviation from regional mean\n",
    "df['income_vs_region_mean'] = df['income'] - region_income_mean\n"
   ]
  },
  {
   "cell_type": "markdown",
   "id": "2a996fbf",
   "metadata": {},
   "source": [
    "### Rationale for Feature 2\n",
    "\n",
    "This feature measures whether a customer earns above or below the average income for their region. During EDA, regional effects often matter, and this captures relative standing within a peer group. Customers significantly below their region’s average might have different financial behaviors than those above."
   ]
  },
  {
   "cell_type": "code",
   "execution_count": null,
   "id": "67902577-1ad6-47d6-817f-285959bb5cae",
   "metadata": {},
   "outputs": [],
   "source": [
    "plt.plot(df['monthly_spend'], label='Original Spend', alpha=0.5)\n",
    "plt.plot(df['rolling_spend_mean'], label='Rolling 3-Month Mean', color='red')\n",
    "plt.title('Monthly Spend and Rolling Average')\n",
    "plt.xlabel('Customer Index')\n",
    "plt.ylabel('Monthly Spend')\n",
    "plt.legend()\n",
    "plt.show()\n"
   ]
  }
 ],
 "metadata": {
  "kernelspec": {
   "display_name": "Python 3 (ipykernel)",
   "language": "python",
   "name": "python3"
  },
  "language_info": {
   "codemirror_mode": {
    "name": "ipython",
    "version": 3
   },
   "file_extension": ".py",
   "mimetype": "text/x-python",
   "name": "python",
   "nbconvert_exporter": "python",
   "pygments_lexer": "ipython3",
   "version": "3.10.18"
  }
 },
 "nbformat": 4,
 "nbformat_minor": 5
}

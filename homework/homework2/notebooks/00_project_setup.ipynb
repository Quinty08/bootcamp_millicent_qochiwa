{
 "cells": [
  {
   "cell_type": "markdown",
   "id": "0ffeac49-033f-43ba-b25c-409cbd6ea6ab",
   "metadata": {},
   "source": [
    "**Environment & Config Check**"
   ]
  },
  {
   "cell_type": "code",
   "execution_count": 2,
   "id": "0423d2ee-9a1d-46d2-b5f9-451f8b381e56",
   "metadata": {},
   "outputs": [
    {
     "name": "stdout",
     "output_type": "stream",
     "text": [
      "API_KEY present: True\n",
      "Array sum: 6\n"
     ]
    }
   ],
   "source": [
    "from dotenv import load_dotenv\n",
    "import os\n",
    "import numpy as np\n",
    "\n",
    "#load .env variables\n",
    "load_dotenv()\n",
    "\n",
    "#check API key\n",
    "print(\"API_KEY present:\", os.getenv(\"API_KEY\") is not None)\n",
    "\n",
    "arr = np.array([1, 2, 3])\n",
    "print(\"Array sum:\", np.sum(arr))\n"
   ]
  },
  {
   "cell_type": "code",
   "execution_count": null,
   "id": "07ce024d-aa79-454a-be9d-d0e74d82d261",
   "metadata": {},
   "outputs": [],
   "source": []
  }
 ],
 "metadata": {
  "kernelspec": {
   "display_name": "Python 3 (fe-course)",
   "language": "python",
   "name": "fe-course"
  },
  "language_info": {
   "codemirror_mode": {
    "name": "ipython",
    "version": 3
   },
   "file_extension": ".py",
   "mimetype": "text/x-python",
   "name": "python",
   "nbconvert_exporter": "python",
   "pygments_lexer": "ipython3",
   "version": "3.11.13"
  }
 },
 "nbformat": 4,
 "nbformat_minor": 5
}

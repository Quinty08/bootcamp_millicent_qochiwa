{
 "cells": [
  {
   "cell_type": "markdown",
   "id": "c94ba6a6",
   "metadata": {},
   "source": [
    "# Homework Starter — Stage 05: Data Storage\n",
    "Name: \n",
    "Date: \n",
    "\n",
    "Objectives:\n",
    "- Env-driven paths to `data/raw/` and `data/processed/`\n",
    "- Save CSV and Parquet; reload and validate\n",
    "- Abstract IO with utility functions; document choices"
   ]
  },
  {
   "cell_type": "code",
   "execution_count": 1,
   "id": "07555766",
   "metadata": {},
   "outputs": [
    {
     "name": "stdout",
     "output_type": "stream",
     "text": [
      "RAW -> C:\\Users\\qochi\\bootcamp_millicent_qochiwa\\homework\\homework5\\data\\raw\n",
      "PROC -> C:\\Users\\qochi\\bootcamp_millicent_qochiwa\\homework\\homework5\\data\\processed\n"
     ]
    }
   ],
   "source": [
    "import os, pathlib, datetime as dt\n",
    "import pandas as pd\n",
    "from dotenv import load_dotenv\n",
    "\n",
    "load_dotenv()\n",
    "RAW = pathlib.Path(os.getenv('DATA_DIR_RAW', 'data/raw'))\n",
    "PROC = pathlib.Path(os.getenv('DATA_DIR_PROCESSED', 'data/processed'))\n",
    "RAW.mkdir(parents=True, exist_ok=True)\n",
    "PROC.mkdir(parents=True, exist_ok=True)\n",
    "print('RAW ->', RAW.resolve())\n",
    "print('PROC ->', PROC.resolve())"
   ]
  },
  {
   "cell_type": "markdown",
   "id": "fc28aa1e",
   "metadata": {},
   "source": [
    "## 1) Create or Load a Sample DataFrame\n",
    "You may reuse data from prior stages or create a small synthetic dataset."
   ]
  },
  {
   "cell_type": "code",
   "execution_count": 2,
   "id": "1321dfd0",
   "metadata": {},
   "outputs": [
    {
     "data": {
      "text/html": [
       "<div>\n",
       "<style scoped>\n",
       "    .dataframe tbody tr th:only-of-type {\n",
       "        vertical-align: middle;\n",
       "    }\n",
       "\n",
       "    .dataframe tbody tr th {\n",
       "        vertical-align: top;\n",
       "    }\n",
       "\n",
       "    .dataframe thead th {\n",
       "        text-align: right;\n",
       "    }\n",
       "</style>\n",
       "<table border=\"1\" class=\"dataframe\">\n",
       "  <thead>\n",
       "    <tr style=\"text-align: right;\">\n",
       "      <th></th>\n",
       "      <th>date</th>\n",
       "      <th>ticker</th>\n",
       "      <th>price</th>\n",
       "    </tr>\n",
       "  </thead>\n",
       "  <tbody>\n",
       "    <tr>\n",
       "      <th>0</th>\n",
       "      <td>2024-01-01</td>\n",
       "      <td>AAPL</td>\n",
       "      <td>151.764052</td>\n",
       "    </tr>\n",
       "    <tr>\n",
       "      <th>1</th>\n",
       "      <td>2024-01-02</td>\n",
       "      <td>AAPL</td>\n",
       "      <td>152.164210</td>\n",
       "    </tr>\n",
       "    <tr>\n",
       "      <th>2</th>\n",
       "      <td>2024-01-03</td>\n",
       "      <td>AAPL</td>\n",
       "      <td>153.142948</td>\n",
       "    </tr>\n",
       "    <tr>\n",
       "      <th>3</th>\n",
       "      <td>2024-01-04</td>\n",
       "      <td>AAPL</td>\n",
       "      <td>155.383841</td>\n",
       "    </tr>\n",
       "    <tr>\n",
       "      <th>4</th>\n",
       "      <td>2024-01-05</td>\n",
       "      <td>AAPL</td>\n",
       "      <td>157.251399</td>\n",
       "    </tr>\n",
       "  </tbody>\n",
       "</table>\n",
       "</div>"
      ],
      "text/plain": [
       "        date ticker       price\n",
       "0 2024-01-01   AAPL  151.764052\n",
       "1 2024-01-02   AAPL  152.164210\n",
       "2 2024-01-03   AAPL  153.142948\n",
       "3 2024-01-04   AAPL  155.383841\n",
       "4 2024-01-05   AAPL  157.251399"
      ]
     },
     "execution_count": 2,
     "metadata": {},
     "output_type": "execute_result"
    }
   ],
   "source": [
    "# import numpy as np\n",
    "# dates = pd.date_range('2024-01-01', periods=20, freq='D')\n",
    "# df = pd.DataFrame({'date': dates, 'ticker': ['AAPL']*20, 'price': 150 + np.random.randn(20).cumsum()})\n",
    "# df\n",
    "\n",
    "#sample DataFrame\n",
    "import numpy as np\n",
    "dates = pd.date_range('2024-01-01', periods=20, freq='D')\n",
    "np.random.seed(0)  # deterministic for notebook runs\n",
    "df = pd.DataFrame({\n",
    "     'date': dates,\n",
    "     'ticker': ['AAPL'] * len(dates),\n",
    "     'price': 150 + np.random.randn(len(dates)).cumsum()\n",
    " })\n",
    "df.head()\n"
   ]
  },
  {
   "cell_type": "markdown",
   "id": "f2dee6b3",
   "metadata": {},
   "source": [
    "## 2) Save CSV to data/raw/ and Parquet to data/processed/ (TODO)\n",
    "- Use timestamped filenames.\n",
    "- Handle missing Parquet engine gracefully."
   ]
  },
  {
   "cell_type": "code",
   "execution_count": 11,
   "id": "2cfc4bec",
   "metadata": {},
   "outputs": [
    {
     "name": "stdout",
     "output_type": "stream",
     "text": [
      "Parquet engine not available. Install pyarrow or fastparquet to complete this step.\n"
     ]
    }
   ],
   "source": [
    "# def ts(): return dt.datetime.now().strftime('%Y%m%d-%H%M%S')\n",
    "\n",
    "# # TODO: Save CSV\n",
    "# csv_path = RAW / f\"sample_{ts()}.csv\"\n",
    "# df.to_csv(csv_path, index=False)\n",
    "# csv_path\n",
    "\n",
    "# # TODO: Save Parquet\n",
    "# pq_path = PROC / f\"sample_{ts()}.parquet\"\n",
    "# try:\n",
    "#     df.to_parquet(pq_path)\n",
    "# except Exception as e:\n",
    "#     print('Parquet engine not available. Install pyarrow or fastparquet to complete this step.')\n",
    "#     pq_path = None\n",
    "# pq_path"
   ]
  },
  {
   "cell_type": "code",
   "execution_count": 3,
   "id": "15eef20b-bb43-4acb-bbc9-65aa48594480",
   "metadata": {},
   "outputs": [],
   "source": [
    "import typing as t\n",
    "import pathlib\n",
    "import pandas as pd\n",
    "\n",
    "def ts(fmt: str = '%Y%m%d-%H%M%S') -> str:\n",
    "    \"\"\"Timestamp helper for filenames.\"\"\"\n",
    "    return dt.datetime.now().strftime(fmt)\n",
    "\n",
    "def detect_format(path: t.Union[str, pathlib.Path]) -> str:\n",
    "    s = str(path).lower()\n",
    "    if s.endswith('.csv'):\n",
    "        return 'csv'\n",
    "    if s.endswith('.parquet') or s.endswith('.pq') or s.endswith('.parq'):\n",
    "        return 'parquet'\n",
    "    raise ValueError('Unsupported format: ' + s)\n",
    "\n",
    "def _get_parquet_engine() -> t.Optional[str]:\n",
    "    \"\"\"\n",
    "    Return 'pyarrow' or 'fastparquet' if available, otherwise None.\n",
    "    We avoid importing pandas internals and directly check these backends.\n",
    "    \"\"\"\n",
    "    try:\n",
    "        import pyarrow  # type: ignore\n",
    "        return 'pyarrow'\n",
    "    except Exception:\n",
    "        try:\n",
    "            import fastparquet  # type: ignore\n",
    "            return 'fastparquet'\n",
    "        except Exception:\n",
    "            return None\n",
    "\n",
    "def _infer_date_columns_csv(path: t.Union[str, pathlib.Path]) -> t.List[str]:\n",
    "    \"\"\"Look at the CSV header to infer columns that seem like dates.\"\"\"\n",
    "    p = pathlib.Path(path)\n",
    "    cols = pd.read_csv(p, nrows=0).columns.tolist()\n",
    "    # common heuristics: name contains 'date' or 'time'\n",
    "    date_cols = [c for c in cols if ('date' in c.lower()) or ('time' in c.lower())]\n",
    "    return date_cols\n",
    "\n",
    "def write_df(df: pd.DataFrame, path: t.Union[str, pathlib.Path]) -> pathlib.Path:\n",
    "    \"\"\"\n",
    "    Write DataFrame either as CSV or Parquet based on file suffix.\n",
    "    Creates parent dir if missing. Raises RuntimeError with a friendly message\n",
    "    if Parquet engine not available.\n",
    "    \"\"\"\n",
    "    p = pathlib.Path(path)\n",
    "    p.parent.mkdir(parents=True, exist_ok=True)\n",
    "    fmt = detect_format(p)\n",
    "    if fmt == 'csv':\n",
    "        df.to_csv(p, index=False)\n",
    "        print(f'WROTE CSV -> {p}')\n",
    "    else:\n",
    "        engine = _get_parquet_engine()\n",
    "        if engine is None:\n",
    "            raise RuntimeError(\n",
    "                \"Parquet engine not available. Install one: `pip install pyarrow` or `pip install fastparquet`.\"\n",
    "            )\n",
    "        df.to_parquet(p, index=False, engine=engine)\n",
    "        print(f'WROTE PARQUET -> {p} (engine={engine})')\n",
    "    return p\n",
    "\n",
    "def read_df(path: t.Union[str, pathlib.Path]) -> pd.DataFrame:\n",
    "    \"\"\"\n",
    "    Read CSV or Parquet based on extension.\n",
    "    For CSV: parses inferred date columns (names containing 'date'/'time').\n",
    "    For Parquet: uses available parquet engine or raises friendly RuntimeError.\n",
    "    \"\"\"\n",
    "    p = pathlib.Path(path)\n",
    "    fmt = detect_format(p)\n",
    "    if fmt == 'csv':\n",
    "        date_cols = _infer_date_columns_csv(p)\n",
    "        if date_cols:\n",
    "            return pd.read_csv(p, parse_dates=date_cols)\n",
    "        else:\n",
    "            return pd.read_csv(p)\n",
    "    else:\n",
    "        engine = _get_parquet_engine()\n",
    "        if engine is None:\n",
    "            raise RuntimeError(\n",
    "                \"Parquet engine not available for reading. Install `pyarrow` or `fastparquet`.\"\n",
    "            )\n",
    "        return pd.read_parquet(p, engine=engine)\n"
   ]
  },
  {
   "cell_type": "code",
   "execution_count": 4,
   "id": "b6b15d9b-f4f3-4223-a5c1-329bc1d93961",
   "metadata": {},
   "outputs": [
    {
     "name": "stdout",
     "output_type": "stream",
     "text": [
      "WROTE CSV -> data\\raw\\sample_20250820-225407.csv\n",
      "WROTE PARQUET -> data\\processed\\sample_20250820-225407.parquet (engine=fastparquet)\n"
     ]
    }
   ],
   "source": [
    "csv_path = RAW / f\"sample_{ts()}.csv\"\n",
    "pq_path  = PROC / f\"sample_{ts()}.parquet\"\n",
    "\n",
    "# Save CSV (always works)\n",
    "write_df(df, csv_path)\n",
    "\n",
    "# Save Parquet with fastparquet\n",
    "try:\n",
    "    df.to_parquet(pq_path, engine=\"fastparquet\", index=False)\n",
    "    print(f\"WROTE PARQUET -> {pq_path} (engine=fastparquet)\")\n",
    "except Exception as e:\n",
    "    print(\"Parquet save skipped:\", e)\n",
    "    pq_path = None\n"
   ]
  },
  {
   "cell_type": "markdown",
   "id": "ecfd6b69",
   "metadata": {},
   "source": [
    "## 3) Reload and Validate (TODO)\n",
    "- Compare shapes and key dtypes."
   ]
  },
  {
   "cell_type": "code",
   "execution_count": 5,
   "id": "326e2cd3",
   "metadata": {},
   "outputs": [
    {
     "data": {
      "text/plain": [
       "{'shape_equal': True, 'date_is_datetime': True, 'price_is_numeric': True}"
      ]
     },
     "execution_count": 5,
     "metadata": {},
     "output_type": "execute_result"
    }
   ],
   "source": [
    "def validate_loaded(original, reloaded):\n",
    "    checks = {\n",
    "        'shape_equal': original.shape == reloaded.shape,\n",
    "        'date_is_datetime': pd.api.types.is_datetime64_any_dtype(reloaded['date']) if 'date' in reloaded.columns else False,\n",
    "        'price_is_numeric': pd.api.types.is_numeric_dtype(reloaded['price']) if 'price' in reloaded.columns else False,\n",
    "    }\n",
    "    return checks\n",
    "\n",
    "df_csv = pd.read_csv(csv_path, parse_dates=['date'])\n",
    "validate_loaded(df, df_csv)"
   ]
  },
  {
   "cell_type": "code",
   "execution_count": 6,
   "id": "ec716031",
   "metadata": {},
   "outputs": [],
   "source": [
    "if pq_path:\n",
    "    try:\n",
    "        df_pq = pd.read_parquet(pq_path)\n",
    "        validate_loaded(df, df_pq)\n",
    "    except Exception as e:\n",
    "        print('Parquet read failed:', e)"
   ]
  },
  {
   "cell_type": "code",
   "execution_count": 7,
   "id": "9be6eeb7-b107-407f-94a8-7b9ad9b38477",
   "metadata": {},
   "outputs": [
    {
     "name": "stdout",
     "output_type": "stream",
     "text": [
      "SHAPE: original (20, 3) loaded (20, 3) == True\n",
      "\n",
      "DType comparison (original -> loaded):\n",
      "  date: datetime64[ns] -> datetime64[ns] ; equal? True\n",
      "  ticker: object -> object ; equal? True\n",
      "  price: float64 -> float64 ; equal? True\n",
      "\n",
      "Exact-value equality for columns (True means identical):\n",
      "  date: True\n",
      "  ticker: True\n",
      "  price: False\n",
      "SHAPE: original (20, 3) loaded (20, 3) == True\n",
      "\n",
      "DType comparison (original -> loaded):\n",
      "  date: datetime64[ns] -> datetime64[ns] ; equal? True\n",
      "  ticker: object -> object ; equal? True\n",
      "  price: float64 -> float64 ; equal? True\n",
      "\n",
      "Exact-value equality for columns (True means identical):\n",
      "  date: True\n",
      "  ticker: True\n",
      "  price: True\n"
     ]
    }
   ],
   "source": [
    "# Cell 5: Validation helpers and reloading\n",
    "import pandas as pd\n",
    "import numpy as np\n",
    "\n",
    "def validate_loaded(original: pd.DataFrame, loaded: pd.DataFrame, verbose: bool = True) -> dict:\n",
    "    \"\"\"\n",
    "    Compare shape, column presence, dtypes, and column-wise equality for intersection columns.\n",
    "    Returns a dict of checks.\n",
    "    \"\"\"\n",
    "    checks = {}\n",
    "    checks['shape_original'] = original.shape\n",
    "    checks['shape_loaded'] = loaded.shape\n",
    "    checks['shape_equal'] = original.shape == loaded.shape\n",
    "\n",
    "    orig_cols = list(original.columns)\n",
    "    loaded_cols = list(loaded.columns)\n",
    "    checks['orig_cols'] = orig_cols\n",
    "    checks['loaded_cols'] = loaded_cols\n",
    "    checks['missing_in_loaded'] = [c for c in orig_cols if c not in loaded_cols]\n",
    "    checks['extra_in_loaded'] = [c for c in loaded_cols if c not in orig_cols]\n",
    "\n",
    "    # dtype equality for intersection\n",
    "    common = [c for c in orig_cols if c in loaded_cols]\n",
    "    dtype_equal = {}\n",
    "    for c in common:\n",
    "        dtype_equal[c] = {\n",
    "            'original': str(original[c].dtype),\n",
    "            'loaded': str(loaded[c].dtype),\n",
    "            'dtype_equal': pd.api.types.is_dtype_equal(original[c].dtype, loaded[c].dtype)\n",
    "        }\n",
    "    checks['dtype_equal'] = dtype_equal\n",
    "\n",
    "    # quick sample equality check (exact equality)\n",
    "    equality = {}\n",
    "    for c in common:\n",
    "        try:\n",
    "            # use .equals for exact identical series (including NaNs)\n",
    "            equality[c] = bool(original[c].equals(loaded[c]))\n",
    "        except Exception:\n",
    "            equality[c] = False\n",
    "    checks['column_values_identical'] = equality\n",
    "\n",
    "    if verbose:\n",
    "        print(\"SHAPE: original\", checks['shape_original'], \"loaded\", checks['shape_loaded'], \"==\", checks['shape_equal'])\n",
    "        if checks['missing_in_loaded']:\n",
    "            print(\"WARNING: columns missing in loaded:\", checks['missing_in_loaded'])\n",
    "        if checks['extra_in_loaded']:\n",
    "            print(\"NOTE: extra columns in loaded:\", checks['extra_in_loaded'])\n",
    "        print(\"\\nDType comparison (original -> loaded):\")\n",
    "        for c, d in dtype_equal.items():\n",
    "            print(f\"  {c}: {d['original']} -> {d['loaded']} ; equal? {d['dtype_equal']}\")\n",
    "        print(\"\\nExact-value equality for columns (True means identical):\")\n",
    "        for c, v in equality.items():\n",
    "            print(f\"  {c}: {v}\")\n",
    "    return checks\n",
    "\n",
    "# Read CSV back\n",
    "df_csv = read_df(csv_path)\n",
    "csv_checks = validate_loaded(df, df_csv)\n",
    "\n",
    "# Read parquet back (if created)\n",
    "if pq_path:\n",
    "    try:\n",
    "        df_pq = read_df(pq_path)\n",
    "        pq_checks = validate_loaded(df, df_pq)\n",
    "    except RuntimeError as e:\n",
    "        print(\"Parquet re-load skipped:\", e)\n"
   ]
  },
  {
   "cell_type": "markdown",
   "id": "9f5076cf",
   "metadata": {},
   "source": [
    "## 4) Utilities (TODO)\n",
    "- Implement `detect_format`, `write_df`, `read_df`.\n",
    "- Use suffix to route; create parent dirs if needed; friendly errors for Parquet."
   ]
  },
  {
   "cell_type": "code",
   "execution_count": 8,
   "id": "53f4114c",
   "metadata": {},
   "outputs": [
    {
     "name": "stdout",
     "output_type": "stream",
     "text": [
      "CSV HEAD:\n",
      "         date ticker       price\n",
      "0 2024-01-01   AAPL  151.764052\n",
      "1 2024-01-02   AAPL  152.164210\n",
      "2 2024-01-03   AAPL  153.142948\n",
      "3 2024-01-04   AAPL  155.383841\n",
      "4 2024-01-05   AAPL  157.251399 \n",
      "\n",
      "PARQUET HEAD:\n",
      "         date ticker       price\n",
      "0 2024-01-01   AAPL  151.764052\n",
      "1 2024-01-02   AAPL  152.164210\n",
      "2 2024-01-03   AAPL  153.142948\n",
      "3 2024-01-04   AAPL  155.383841\n",
      "4 2024-01-05   AAPL  157.251399\n"
     ]
    }
   ],
   "source": [
    "import typing as t, pathlib, pandas as pd\n",
    "\n",
    "def detect_format(path: t.Union[str, pathlib.Path]):\n",
    "    s = str(path).lower()\n",
    "    if s.endswith('.csv'):\n",
    "        return 'csv'\n",
    "    if s.endswith(('.parquet', '.pq', '.parq')):\n",
    "        return 'parquet'\n",
    "    raise ValueError('Unsupported format: ' + s)\n",
    "\n",
    "def write_df(df: pd.DataFrame, path: t.Union[str, pathlib.Path]):\n",
    "    p = pathlib.Path(path)\n",
    "    p.parent.mkdir(parents=True, exist_ok=True)  # ensure folder exists\n",
    "    fmt = detect_format(p)\n",
    "    if fmt == 'csv':\n",
    "        df.to_csv(p, index=False)\n",
    "    else:  # parquet\n",
    "        try:\n",
    "            df.to_parquet(p, engine=\"fastparquet\", index=False)\n",
    "        except Exception as e:\n",
    "            raise RuntimeError('Parquet engine not available. Install fastparquet.') from e\n",
    "    return p\n",
    "\n",
    "def read_df(path: t.Union[str, pathlib.Path]):\n",
    "    p = pathlib.Path(path)\n",
    "    fmt = detect_format(p)\n",
    "    if fmt == 'csv':\n",
    "        cols = pd.read_csv(p, nrows=0).columns\n",
    "        return pd.read_csv(p, parse_dates=['date']) if 'date' in cols else pd.read_csv(p)\n",
    "    else:\n",
    "        try:\n",
    "            return pd.read_parquet(p, engine=\"fastparquet\")\n",
    "        except Exception as e:\n",
    "            raise RuntimeError('Parquet engine not available. Install fastparquet.') from e\n",
    "\n",
    "# --- Demo ---\n",
    "p_csv = RAW / f\"util_{ts()}.csv\"\n",
    "p_pq  = PROC / f\"util_{ts()}.parquet\"\n",
    "\n",
    "# test CSV\n",
    "write_df(df, p_csv)\n",
    "print(\"CSV HEAD:\\n\", read_df(p_csv).head(), \"\\n\")\n",
    "\n",
    "# test Parquet\n",
    "try:\n",
    "    write_df(df, p_pq)\n",
    "    print(\"PARQUET HEAD:\\n\", read_df(p_pq).head())\n",
    "except RuntimeError as e:\n",
    "    print('Skipping Parquet util demo:', e)\n"
   ]
  },
  {
   "cell_type": "code",
   "execution_count": null,
   "id": "71417eaf-0fe1-4313-b0d9-227dd7071cbb",
   "metadata": {},
   "outputs": [],
   "source": []
  },
  {
   "cell_type": "markdown",
   "id": "9a74703d",
   "metadata": {},
   "source": [
    "## 5) Documentation (TODO)\n",
    "- Update README with a **Data Storage** section (folders, formats, env usage).\n",
    "- Summarize validation checks and any assumptions."
   ]
  }
 ],
 "metadata": {
  "kernelspec": {
   "display_name": "Python 3 (ipykernel)",
   "language": "python",
   "name": "python3"
  },
  "language_info": {
   "codemirror_mode": {
    "name": "ipython",
    "version": 3
   },
   "file_extension": ".py",
   "mimetype": "text/x-python",
   "name": "python",
   "nbconvert_exporter": "python",
   "pygments_lexer": "ipython3",
   "version": "3.10.18"
  }
 },
 "nbformat": 4,
 "nbformat_minor": 5
}

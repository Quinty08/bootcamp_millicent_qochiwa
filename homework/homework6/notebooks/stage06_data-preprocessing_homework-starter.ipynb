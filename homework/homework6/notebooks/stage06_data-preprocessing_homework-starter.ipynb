{
 "cells": [
  {
   "cell_type": "markdown",
   "metadata": {},
   "source": [
    "# Setup: Generate Sample Dataset\n",
    "\n",
    "This cell creates the required folder structure (`data/raw/` and `data/processed/`) relative to the notebook, and generates the sample CSV dataset with missing values. \n",
    "This ensures the dataset is ready for cleaning functions and saves it to `data/raw/sample_data.csv`."
   ]
  },
  {
   "cell_type": "code",
   "execution_count": 8,
   "metadata": {},
   "outputs": [
    {
     "name": "stdout",
     "output_type": "stream",
     "text": [
      "File already exists at ../data/raw\\sample_data.csv. Skipping CSV creation to avoid overwrite.\n"
     ]
    }
   ],
   "source": [
    "import os\n",
    "import pandas as pd\n",
    "import numpy as np\n",
    "\n",
    "# Define folder paths relative to this notebook\n",
    "raw_dir = '../data/raw'\n",
    "processed_dir = '../data/processed'\n",
    "\n",
    "# Create folders if they don't exist\n",
    "os.makedirs(raw_dir, exist_ok=True)\n",
    "os.makedirs(processed_dir, exist_ok=True)\n",
    "\n",
    "# Define the sample data\n",
    "data = {\n",
    "    'age': [34, 45, 29, 50, 38, np.nan, 41],\n",
    "    'income': [55000, np.nan, 42000, 58000, np.nan, np.nan, 49000],\n",
    "    'score': [0.82, 0.91, np.nan, 0.76, 0.88, 0.65, 0.79],\n",
    "    'zipcode': ['90210', '10001', '60614', '94103', '73301', '12345', '94105'],\n",
    "    'city': ['Beverly', 'New York', 'Chicago', 'SF', 'Austin', 'Unknown', 'San Francisco'],\n",
    "    'extra_data': [np.nan, 42, np.nan, np.nan, np.nan, 5, np.nan]\n",
    "}\n",
    "\n",
    "# Create DataFrame\n",
    "df = pd.DataFrame(data)\n",
    "\n",
    "# Save to CSV in raw data folder\n",
    "csv_path = os.path.join(raw_dir, 'sample_data.csv')\n",
    "if not os.path.exists(csv_path):\n",
    "    df.to_csv(csv_path, index=False)\n",
    "    print(f'Sample dataset created and saved to {csv_path}')\n",
    "else:\n",
    "    print(f'File already exists at {csv_path}. Skipping CSV creation to avoid overwrite.')\n"
   ]
  },
  {
   "cell_type": "markdown",
   "metadata": {},
   "source": [
    "# Homework Starter — Stage 6: Data Preprocessing\n",
    "Use this notebook to apply your cleaning functions and save processed data."
   ]
  },
  {
   "cell_type": "code",
   "execution_count": 11,
   "metadata": {},
   "outputs": [
    {
     "name": "stdout",
     "output_type": "stream",
     "text": [
      "Original DataFrame:\n",
      "     age   income  score  zipcode           city  extra_data\n",
      "0  34.0  55000.0   0.82    90210        Beverly         NaN\n",
      "1  45.0      NaN   0.91    10001       New York        42.0\n",
      "2  29.0  42000.0    NaN    60614        Chicago         NaN\n",
      "3  50.0  58000.0   0.76    94103             SF         NaN\n",
      "4  38.0      NaN   0.88    73301         Austin         NaN\n",
      "5   NaN      NaN   0.65    12345        Unknown         5.0\n",
      "6  41.0  49000.0   0.79    94105  San Francisco         NaN\n",
      "\n",
      "After filling missing values:\n",
      "     age   income  score  zipcode           city  extra_data\n",
      "0  34.0  55000.0   0.82    90210        Beverly         NaN\n",
      "1  45.0      NaN   0.91    10001       New York        42.0\n",
      "2  29.0  42000.0    NaN    60614        Chicago         NaN\n",
      "3  50.0  58000.0   0.76    94103             SF         NaN\n",
      "4  38.0      NaN   0.88    73301         Austin         NaN\n",
      "5   NaN      NaN   0.65    12345        Unknown         5.0\n",
      "6  41.0  49000.0   0.79    94105  San Francisco         NaN\n",
      "\n",
      "After dropping rows with too many missing values:\n",
      "     age   income  score  zipcode           city  extra_data\n",
      "0  34.0  55000.0   0.82    90210        Beverly         NaN\n",
      "1  45.0      NaN   0.91    10001       New York        42.0\n",
      "2  29.0  42000.0    NaN    60614        Chicago         NaN\n",
      "3  50.0  58000.0   0.76    94103             SF         NaN\n",
      "4  38.0      NaN   0.88    73301         Austin         NaN\n",
      "5   NaN      NaN   0.65    12345        Unknown         5.0\n",
      "6  41.0  49000.0   0.79    94105  San Francisco         NaN\n",
      "\n",
      "After normalization:\n",
      "         age  income     score  zipcode           city  extra_data\n",
      "0  0.238095  0.8125  0.653846    90210        Beverly         NaN\n",
      "1  0.761905     NaN  1.000000    10001       New York         1.0\n",
      "2  0.000000  0.0000       NaN    60614        Chicago         NaN\n",
      "3  1.000000  1.0000  0.423077    94103             SF         NaN\n",
      "4  0.428571     NaN  0.884615    73301         Austin         NaN\n",
      "5       NaN     NaN  0.000000    12345        Unknown         0.0\n",
      "6  0.571429  0.4375  0.538462    94105  San Francisco         NaN\n",
      "Cleaned dataset saved to data/processed/\n"
     ]
    }
   ],
   "source": [
    "import sys\n",
    "import os\n",
    "\n",
    "# Add the src folder to Python path\n",
    "sys.path.append(os.path.abspath('../src'))\n",
    "\n",
    "from cleaning import fill_missing_median, drop_missing, normalize_data\n",
    "import pandas as pd\n",
    "\n",
    "# Load raw dataset\n",
    "df = pd.read_csv('../data/raw/sample_data.csv')\n",
    "print(\"Original DataFrame:\\n\", df)\n",
    "\n",
    "# Fill missing numeric values (age, income, score, extra_data)\n",
    "df = fill_missing_median(df, [...])\n",
    "print(\"\\nAfter filling missing values:\\n\", df)\n",
    "\n",
    "# Drop rows with >50% missing values\n",
    "df = drop_missing(df, threshold=0.5)\n",
    "print(\"\\nAfter dropping rows with too many missing values:\\n\", df)\n",
    "\n",
    "df = normalize_data(df, ['age', 'income', 'score', 'extra_data'])\n",
    "print(\"\\nAfter normalization:\\n\", df)\n",
    "\n",
    "df.to_csv('../data/processed/sample_data_cleaned.csv', index=False)\n",
    "print(\"Cleaned dataset saved to data/processed/\")\n"
   ]
  },
  {
   "cell_type": "markdown",
   "metadata": {},
   "source": [
    "## Load Raw Dataset"
   ]
  },
  {
   "cell_type": "code",
   "execution_count": 12,
   "metadata": {},
   "outputs": [],
   "source": [
    "# df = pd.read_csv('../data/raw/sample_data.csv')\n",
    "# df.head()\n",
    "\n",
    "import pandas as pd\n",
    "\n",
    "# Original raw data\n",
    "original_df = pd.read_csv('../data/raw/sample_data.csv')\n",
    "\n",
    "# Cleaned data\n",
    "cleaned_df = pd.read_csv('../data/processed/sample_data_cleaned.csv')\n"
   ]
  },
  {
   "cell_type": "code",
   "execution_count": 13,
   "metadata": {},
   "outputs": [
    {
     "name": "stdout",
     "output_type": "stream",
     "text": [
      "Original Data Info:\n",
      "<class 'pandas.core.frame.DataFrame'>\n",
      "RangeIndex: 7 entries, 0 to 6\n",
      "Data columns (total 6 columns):\n",
      " #   Column      Non-Null Count  Dtype  \n",
      "---  ------      --------------  -----  \n",
      " 0   age         6 non-null      float64\n",
      " 1   income      4 non-null      float64\n",
      " 2   score       6 non-null      float64\n",
      " 3   zipcode     7 non-null      int64  \n",
      " 4   city        7 non-null      object \n",
      " 5   extra_data  2 non-null      float64\n",
      "dtypes: float64(4), int64(1), object(1)\n",
      "memory usage: 464.0+ bytes\n",
      "None\n",
      "\n",
      "Cleaned Data Info:\n",
      "<class 'pandas.core.frame.DataFrame'>\n",
      "RangeIndex: 7 entries, 0 to 6\n",
      "Data columns (total 6 columns):\n",
      " #   Column      Non-Null Count  Dtype  \n",
      "---  ------      --------------  -----  \n",
      " 0   age         6 non-null      float64\n",
      " 1   income      4 non-null      float64\n",
      " 2   score       6 non-null      float64\n",
      " 3   zipcode     7 non-null      int64  \n",
      " 4   city        7 non-null      object \n",
      " 5   extra_data  2 non-null      float64\n",
      "dtypes: float64(4), int64(1), object(1)\n",
      "memory usage: 464.0+ bytes\n",
      "None\n"
     ]
    }
   ],
   "source": [
    "print(\"Original Data Info:\")\n",
    "print(original_df.info())\n",
    "\n",
    "print(\"\\nCleaned Data Info:\")\n",
    "print(cleaned_df.info())\n"
   ]
  },
  {
   "cell_type": "code",
   "execution_count": 14,
   "metadata": {},
   "outputs": [
    {
     "name": "stdout",
     "output_type": "stream",
     "text": [
      "Original Data Summary:\n",
      "             age        income     score      zipcode  extra_data\n",
      "count   6.000000      4.000000  6.000000      7.00000    2.000000\n",
      "mean   39.500000  51000.000000  0.801667  62097.00000   23.500000\n",
      "std     7.556454   7071.067812  0.092826  36869.63632   26.162951\n",
      "min    29.000000  42000.000000  0.650000  10001.00000    5.000000\n",
      "25%    35.000000  47250.000000  0.767500  36479.50000   14.250000\n",
      "50%    39.500000  52000.000000  0.805000  73301.00000   23.500000\n",
      "75%    44.000000  55750.000000  0.865000  92156.50000   32.750000\n",
      "max    50.000000  58000.000000  0.910000  94105.00000   42.000000\n",
      "\n",
      "Cleaned Data Summary:\n",
      "            age    income     score      zipcode  extra_data\n",
      "count  6.000000  4.000000  6.000000      7.00000    2.000000\n",
      "mean   0.500000  0.562500  0.583333  62097.00000    0.500000\n",
      "std    0.359831  0.441942  0.357023  36869.63632    0.707107\n",
      "min    0.000000  0.000000  0.000000  10001.00000    0.000000\n",
      "25%    0.285714  0.328125  0.451923  36479.50000    0.250000\n",
      "50%    0.500000  0.625000  0.596154  73301.00000    0.500000\n",
      "75%    0.714286  0.859375  0.826923  92156.50000    0.750000\n",
      "max    1.000000  1.000000  1.000000  94105.00000    1.000000\n"
     ]
    }
   ],
   "source": [
    "print(\"Original Data Summary:\")\n",
    "print(original_df.describe())\n",
    "\n",
    "print(\"\\nCleaned Data Summary:\")\n",
    "print(cleaned_df.describe())\n"
   ]
  },
  {
   "cell_type": "code",
   "execution_count": 15,
   "metadata": {},
   "outputs": [
    {
     "name": "stdout",
     "output_type": "stream",
     "text": [
      "        Original                                                   Cleaned  \\\n",
      "             age        income     score      zipcode extra_data       age   \n",
      "count   6.000000      4.000000  6.000000      7.00000   2.000000  6.000000   \n",
      "mean   39.500000  51000.000000  0.801667  62097.00000  23.500000  0.500000   \n",
      "std     7.556454   7071.067812  0.092826  36869.63632  26.162951  0.359831   \n",
      "min    29.000000  42000.000000  0.650000  10001.00000   5.000000  0.000000   \n",
      "25%    35.000000  47250.000000  0.767500  36479.50000  14.250000  0.285714   \n",
      "50%    39.500000  52000.000000  0.805000  73301.00000  23.500000  0.500000   \n",
      "75%    44.000000  55750.000000  0.865000  92156.50000  32.750000  0.714286   \n",
      "max    50.000000  58000.000000  0.910000  94105.00000  42.000000  1.000000   \n",
      "\n",
      "                                                   \n",
      "         income     score      zipcode extra_data  \n",
      "count  4.000000  6.000000      7.00000   2.000000  \n",
      "mean   0.562500  0.583333  62097.00000   0.500000  \n",
      "std    0.441942  0.357023  36869.63632   0.707107  \n",
      "min    0.000000  0.000000  10001.00000   0.000000  \n",
      "25%    0.328125  0.451923  36479.50000   0.250000  \n",
      "50%    0.625000  0.596154  73301.00000   0.500000  \n",
      "75%    0.859375  0.826923  92156.50000   0.750000  \n",
      "max    1.000000  1.000000  94105.00000   1.000000  \n"
     ]
    }
   ],
   "source": [
    "comparison = pd.concat([original_df.describe(), cleaned_df.describe()], axis=1, keys=['Original', 'Cleaned'])\n",
    "print(comparison)\n"
   ]
  },
  {
   "cell_type": "code",
   "execution_count": null,
   "metadata": {},
   "outputs": [],
   "source": []
  },
  {
   "cell_type": "markdown",
   "metadata": {},
   "source": [
    "## Apply Cleaning Functions"
   ]
  },
  {
   "cell_type": "code",
   "execution_count": 16,
   "metadata": {},
   "outputs": [],
   "source": [
    "# TODO: Apply your functions here\n",
    "# Example:\n",
    "# df = cleaning.fill_missing_median(df, ['col1','col2'])\n",
    "# df = cleaning.drop_missing(df, threshold=0.5)\n",
    "# df = cleaning.normalize_data(df, ['col1','col2'])"
   ]
  },
  {
   "cell_type": "code",
   "execution_count": 18,
   "metadata": {},
   "outputs": [
    {
     "name": "stdout",
     "output_type": "stream",
     "text": [
      "Original DataFrame:\n",
      "     age   income  score  zipcode           city  extra_data\n",
      "0  34.0  55000.0   0.82    90210        Beverly         NaN\n",
      "1  45.0      NaN   0.91    10001       New York        42.0\n",
      "2  29.0  42000.0    NaN    60614        Chicago         NaN\n",
      "3  50.0  58000.0   0.76    94103             SF         NaN\n",
      "4  38.0      NaN   0.88    73301         Austin         NaN\n",
      "5   NaN      NaN   0.65    12345        Unknown         5.0\n",
      "6  41.0  49000.0   0.79    94105  San Francisco         NaN\n",
      "After filling missing values:\n",
      "     age   income  score  zipcode           city  extra_data\n",
      "0  34.0  55000.0  0.820    90210        Beverly        23.5\n",
      "1  45.0  52000.0  0.910    10001       New York        42.0\n",
      "2  29.0  42000.0  0.805    60614        Chicago        23.5\n",
      "3  50.0  58000.0  0.760    94103             SF        23.5\n",
      "4  38.0  52000.0  0.880    73301         Austin        23.5\n",
      "5  39.5  52000.0  0.650    12345        Unknown         5.0\n",
      "6  41.0  49000.0  0.790    94105  San Francisco        23.5\n",
      "After dropping rows with >50% missing values:\n",
      "     age   income  score  zipcode           city  extra_data\n",
      "0  34.0  55000.0  0.820    90210        Beverly        23.5\n",
      "1  45.0  52000.0  0.910    10001       New York        42.0\n",
      "2  29.0  42000.0  0.805    60614        Chicago        23.5\n",
      "3  50.0  58000.0  0.760    94103             SF        23.5\n",
      "4  38.0  52000.0  0.880    73301         Austin        23.5\n",
      "5  39.5  52000.0  0.650    12345        Unknown         5.0\n",
      "6  41.0  49000.0  0.790    94105  San Francisco        23.5\n",
      "After normalization:\n",
      "         age  income     score  zipcode           city  extra_data\n",
      "0  0.238095  0.8125  0.653846    90210        Beverly         0.5\n",
      "1  0.761905  0.6250  1.000000    10001       New York         1.0\n",
      "2  0.000000  0.0000  0.596154    60614        Chicago         0.5\n",
      "3  1.000000  1.0000  0.423077    94103             SF         0.5\n",
      "4  0.428571  0.6250  0.884615    73301         Austin         0.5\n",
      "5  0.500000  0.6250  0.000000    12345        Unknown         0.0\n",
      "6  0.571429  0.4375  0.538462    94105  San Francisco         0.5\n"
     ]
    },
    {
     "name": "stderr",
     "output_type": "stream",
     "text": [
      "C:\\Users\\qochi\\bootcamp_millicent_qochiwa\\homework\\homework6\\src\\cleaning.py:20: FutureWarning: A value is trying to be set on a copy of a DataFrame or Series through chained assignment using an inplace method.\n",
      "The behavior will change in pandas 3.0. This inplace method will never work because the intermediate object on which we are setting values always behaves as a copy.\n",
      "\n",
      "For example, when doing 'df[col].method(value, inplace=True)', try using 'df.method({col: value}, inplace=True)' or df[col] = df[col].method(value) instead, to perform the operation inplace on the original object.\n",
      "\n",
      "\n",
      "  df_copy[col].fillna(median_value, inplace=True)\n"
     ]
    }
   ],
   "source": [
    "import sys\n",
    "import os\n",
    "\n",
    "sys.path.append(os.path.abspath('../src'))\n",
    "\n",
    "from cleaning import fill_missing_median, drop_missing, normalize_data\n",
    "import pandas as pd\n",
    "\n",
    "\n",
    "df = pd.read_csv('../data/raw/sample_data.csv')  # adjust path if notebook location differs\n",
    "print(\"Original DataFrame:\\n\", df)\n",
    "\n",
    "\n",
    "numeric_cols = ['age', 'income', 'score', 'extra_data']\n",
    "df = fill_missing_median(df, numeric_cols)\n",
    "print(\"After filling missing values:\\n\", df)\n",
    "\n",
    "df = drop_missing(df, threshold=0.5)\n",
    "print(\"After dropping rows with >50% missing values:\\n\", df)\n",
    "\n",
    "\n",
    "df = normalize_data(df, numeric_cols)\n",
    "print(\"After normalization:\\n\", df)\n"
   ]
  },
  {
   "cell_type": "markdown",
   "metadata": {},
   "source": [
    "**DOCUMENTATION**\n",
    "\n",
    "1️⃣ Number of rows\n",
    "\n",
    "Original: 7 rows\n",
    "\n",
    "Cleaned: 7 rows\n",
    "\n",
    "Observation:\n",
    "\n",
    "No rows were dropped because none had >50% missing values.\n",
    "\n",
    "2️⃣ Columns with missing values filled\n",
    "\n",
    "age: 1 missing → filled with median (39.5)\n",
    "\n",
    "income: 3 missing → filled with median (52000)\n",
    "\n",
    "score: 1 missing → filled with median (0.805)\n",
    "\n",
    "extra_data: 5 missing → filled with median (23.5)\n",
    "\n",
    "Observation:\n",
    "\n",
    "All numeric columns with missing values were filled using the median.\n",
    "\n",
    "3️⃣ Range of numeric columns after normalization\n",
    "\n",
    "age: 0 → 1\n",
    "\n",
    "income: 0 → 1\n",
    "\n",
    "score: 0 → 1\n",
    "\n",
    "extra_data: 0 → 1\n",
    "\n",
    "Observation:\n",
    "\n",
    "Numeric columns were scaled to 0–1 using Min-Max normalization.\n",
    "\n",
    "4️⃣ Non-numeric columns\n",
    "\n",
    "zipcode and city were not modified.\n",
    "\n",
    "Their counts, types, and values remain unchanged.\n",
    "\n",
    "5️⃣ Summary statistics comparison\n",
    "\n",
    "Original describe() shows missing counts (NaN) in numeric columns.\n",
    "\n",
    "Cleaned describe() shows count = 7 for all columns, no missing values.\n",
    "\n",
    "Means, min, max, std for numeric columns now correspond to normalized values (0–1).\n",
    "\n",
    "Observation:\n",
    "\n",
    "Cleaning removed missing data issues and normalized numeric columns, improving data quality for analysis or modeling."
   ]
  },
  {
   "cell_type": "markdown",
   "metadata": {},
   "source": [
    "## Save Cleaned Dataset"
   ]
  },
  {
   "cell_type": "code",
   "execution_count": 19,
   "metadata": {},
   "outputs": [
    {
     "name": "stdout",
     "output_type": "stream",
     "text": [
      "Cleaned dataset saved to data/processed/\n"
     ]
    }
   ],
   "source": [
    "df.to_csv('../data/processed/sample_data_cleaned.csv', index=False)\n",
    "print(\"Cleaned dataset saved to data/processed/\")\n"
   ]
  },
  {
   "cell_type": "code",
   "execution_count": null,
   "metadata": {},
   "outputs": [],
   "source": []
  }
 ],
 "metadata": {
  "kernelspec": {
   "display_name": "Python 3 (ipykernel)",
   "language": "python",
   "name": "python3"
  },
  "language_info": {
   "codemirror_mode": {
    "name": "ipython",
    "version": 3
   },
   "file_extension": ".py",
   "mimetype": "text/x-python",
   "name": "python",
   "nbconvert_exporter": "python",
   "pygments_lexer": "ipython3",
   "version": "3.10.18"
  }
 },
 "nbformat": 4,
 "nbformat_minor": 4
}

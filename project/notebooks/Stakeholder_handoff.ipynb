{
 "cells": [
  {
   "cell_type": "markdown",
   "id": "a88cbd3f-a8e4-4c8a-aee2-a7f7036e3057",
   "metadata": {},
   "source": [
    "\n",
    "---\n",
    "\n",
    "\n",
    "# Stakeholder Handoff \n",
    "\n",
    "## Overview\n",
    "Predicting loan defaults to guide credit risk decisions. RandomForest model trained on historical client data.\n",
    "\n",
    "## Key Findings\n",
    "- Model RMSE = 0.35 on holdout set  \n",
    "- Feature `age` and `basic_salary` contributed most to predictions\n",
    "\n",
    "## Recommendations\n",
    "- Use predictions to flag high-risk loans for review  \n",
    "- Automate daily predictions via API or batch job\n",
    "\n",
    "## Assumptions\n",
    "- Data is cleaned and preprocessed  \n",
    "- Target column is `loan_default`  \n",
    "- Missing affordability values replaced with 0\n",
    "\n",
    "## Limitations & Risks\n",
    "- Small dataset may limit generalization  \n",
    "- Model drift if data distribution changes  \n",
    "- Only numeric features included\n",
    "\n",
    "## How to use deliverables\n",
    "- `reports/summary.json` — run metadata  \n",
    "- `model/model_v1.pkl` — production model  \n",
    "- To reproduce:  \n",
    "```bash\n",
    "python -c \"from src.utils import run_full_analysis; run_full_analysis()\"\n"
   ]
  },
  {
   "cell_type": "code",
   "execution_count": null,
   "id": "7943a60c-6976-4c83-a5ab-59fd05d9a04b",
   "metadata": {},
   "outputs": [],
   "source": []
  }
 ],
 "metadata": {
  "kernelspec": {
   "display_name": "Python 3 (bootcamp_env)",
   "language": "python",
   "name": "bootcamp_env"
  },
  "language_info": {
   "codemirror_mode": {
    "name": "ipython",
    "version": 3
   },
   "file_extension": ".py",
   "mimetype": "text/x-python",
   "name": "python",
   "nbconvert_exporter": "python",
   "pygments_lexer": "ipython3",
   "version": "3.10.18"
  }
 },
 "nbformat": 4,
 "nbformat_minor": 5
}

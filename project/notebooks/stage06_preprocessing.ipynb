{
 "cells": [
  {
   "cell_type": "markdown",
   "id": "b3d855a1-d676-42b3-a8d7-f57a1e9ee3b3",
   "metadata": {},
   "source": [
    "# Stage 06 — Data Preprocessing\n",
    "Document assumptions, run the preprocessing pipeline, save processed outputs.\n"
   ]
  },
  {
   "cell_type": "code",
   "execution_count": 1,
   "id": "a258f3b5-248f-472d-ba13-32060af333ca",
   "metadata": {},
   "outputs": [],
   "source": [
    "import os, sys\n",
    "\n",
    "sys.path.append(os.path.abspath('..'))\n",
    "\n",
    "from src.cleaning import load_raw_data, clean_loans, save_processed_data"
   ]
  },
  {
   "cell_type": "code",
   "execution_count": 2,
   "id": "d39d8aa3-f2ba-435f-b68d-745b7d51f189",
   "metadata": {},
   "outputs": [],
   "source": [
    "df_raw = load_raw_data('../data/raw/raw_loan_data.csv')"
   ]
  },
  {
   "cell_type": "code",
   "execution_count": 3,
   "id": "a86974d4-1ec7-40e4-acde-792dcd5e8ddd",
   "metadata": {},
   "outputs": [],
   "source": [
    "df_clean = clean_loans(df_raw)"
   ]
  },
  {
   "cell_type": "code",
   "execution_count": 4,
   "id": "50503a73-4996-47d8-b675-ed29fae950d4",
   "metadata": {},
   "outputs": [],
   "source": [
    "save_processed_data(df_clean, '../data/processed/cleaned_loan_data.csv')"
   ]
  },
  {
   "cell_type": "markdown",
   "id": "e63a2554-783a-4e9a-ad1c-04a0cc517f66",
   "metadata": {},
   "source": [
    "**Data Cleaning & Preprocessing Assumptions**\n",
    "\n",
    "During the preprocessing stage, several assumptions were made to handle missing and inconsistent values in the loan dataset. These choices ensure the dataset remains usable while minimizing the loss of critical information.\n",
    "\n",
    "Tenure\n",
    "\n",
    "Assumption: Missing Tenure values represent either new or incomplete loan records.\n",
    "\n",
    "Rationale: These were filled with 0 to indicate “no tenure yet,” rather than dropping the records.\n",
    "\n",
    "Date Columns (LoanDate, DisbursementDate, LastPaymentDate, RetirementDate)\n",
    "\n",
    "Assumption: Missing dates mean the event has not occurred or was not recorded.\n",
    "\n",
    "Rationale: Converted all dates to datetime format. Missing values were left as NaT (null datetime), preserving the information without arbitrary assumptions.\n",
    "\n",
    "Loan Amount, Disbursement Amount, Instalment, Principal Balance\n",
    "\n",
    "Assumption: Missing amounts likely indicate loans that were not disbursed or not fully recorded.\n",
    "\n",
    "Rationale: Filled with 0 instead of dropping rows, so incomplete loans remain in the dataset for analysis.\n",
    "\n",
    "Loan Status & Loan Purpose\n",
    "\n",
    "Assumption: Missing entries mean information was not recorded.\n",
    "\n",
    "Rationale: Filled with \"Unknown\" to preserve rows while marking incomplete data explicitly.\n",
    "\n",
    "Interest Rate\n",
    "\n",
    "Assumption: Missing rates are due to incomplete loan documentation.\n",
    "\n",
    "Rationale: Filled with the dataset median interest rate to avoid bias toward extreme values.\n",
    "\n",
    "IsNPL (Target Variable)\n",
    "\n",
    "Assumption: A missing IsNPL label means we cannot use the record for supervised learning.\n",
    "\n",
    "Rationale: Rows with missing target values were dropped, since model training requires labels.\n",
    "\n",
    "General Rule\n",
    "\n",
    "Assumption: Retaining as much data as possible is preferred to maximize sample size.\n",
    "\n",
    "Rationale: Instead of aggressive dropping, imputation and “Unknown” placeholders were applied unless the target variable was missing.\n",
    "\n",
    "📌 Notes and Risks\n",
    "\n",
    "Some imputations (like filling missing interest rates with the median) may reduce variability and affect model accuracy.\n",
    "\n",
    "Records with extensive missing financial details (loan amounts, balances) may still not reflect real-world loans accurately.\n",
    "\n",
    "If time allows, future iterations should explore more sophisticated imputations (e.g., predictive models for missing values)."
   ]
  }
 ],
 "metadata": {
  "kernelspec": {
   "display_name": "Python 3 (bootcamp_env)",
   "language": "python",
   "name": "bootcamp_env"
  },
  "language_info": {
   "codemirror_mode": {
    "name": "ipython",
    "version": 3
   },
   "file_extension": ".py",
   "mimetype": "text/x-python",
   "name": "python",
   "nbconvert_exporter": "python",
   "pygments_lexer": "ipython3",
   "version": "3.10.18"
  }
 },
 "nbformat": 4,
 "nbformat_minor": 5
}

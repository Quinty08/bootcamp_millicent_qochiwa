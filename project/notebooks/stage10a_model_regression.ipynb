{
 "cells": [
  {
   "cell_type": "code",
   "execution_count": 1,
   "id": "4328ae42-bd88-4b04-90ce-a6403c51a973",
   "metadata": {},
   "outputs": [
    {
     "name": "stdout",
     "output_type": "stream",
     "text": [
      "(17719, 25)\n"
     ]
    },
    {
     "data": {
      "text/html": [
       "<div>\n",
       "<style scoped>\n",
       "    .dataframe tbody tr th:only-of-type {\n",
       "        vertical-align: middle;\n",
       "    }\n",
       "\n",
       "    .dataframe tbody tr th {\n",
       "        vertical-align: top;\n",
       "    }\n",
       "\n",
       "    .dataframe thead th {\n",
       "        text-align: right;\n",
       "    }\n",
       "</style>\n",
       "<table border=\"1\" class=\"dataframe\">\n",
       "  <thead>\n",
       "    <tr style=\"text-align: right;\">\n",
       "      <th></th>\n",
       "      <th>ID number</th>\n",
       "      <th>Personnel Number</th>\n",
       "      <th>Basic Salary</th>\n",
       "      <th>Payment</th>\n",
       "      <th>AFFORDABILITY</th>\n",
       "      <th>LoanId</th>\n",
       "      <th>Regions</th>\n",
       "      <th>Gender</th>\n",
       "      <th>Age</th>\n",
       "      <th>Tenure</th>\n",
       "      <th>...</th>\n",
       "      <th>Instalment</th>\n",
       "      <th>PrincipalBalance</th>\n",
       "      <th>LoanStatus</th>\n",
       "      <th>InterestRate</th>\n",
       "      <th>LoanPurpose</th>\n",
       "      <th>RetirementDate</th>\n",
       "      <th>IsNPL</th>\n",
       "      <th>DebtToIncome</th>\n",
       "      <th>PrincipalPaidPct</th>\n",
       "      <th>HighSalaryFlag</th>\n",
       "    </tr>\n",
       "  </thead>\n",
       "  <tbody>\n",
       "    <tr>\n",
       "      <th>0</th>\n",
       "      <td>ID_1</td>\n",
       "      <td>50403</td>\n",
       "      <td>7756.305</td>\n",
       "      <td>7910.80</td>\n",
       "      <td>3940.00000</td>\n",
       "      <td>LN20242200000143311</td>\n",
       "      <td>Venus</td>\n",
       "      <td>Male</td>\n",
       "      <td>34</td>\n",
       "      <td>6.0</td>\n",
       "      <td>...</td>\n",
       "      <td>1713.56</td>\n",
       "      <td>7704.47</td>\n",
       "      <td>Active</td>\n",
       "      <td>33.0</td>\n",
       "      <td>Home improvement</td>\n",
       "      <td>2038-07-02</td>\n",
       "      <td>Not NPL</td>\n",
       "      <td>0.993317</td>\n",
       "      <td>0.000000</td>\n",
       "      <td>1</td>\n",
       "    </tr>\n",
       "    <tr>\n",
       "      <th>1</th>\n",
       "      <td>ID_2</td>\n",
       "      <td>50422</td>\n",
       "      <td>7756.305</td>\n",
       "      <td>3657.80</td>\n",
       "      <td>0.00000</td>\n",
       "      <td>LN20240240000119983</td>\n",
       "      <td>Gilmore</td>\n",
       "      <td>Female</td>\n",
       "      <td>46</td>\n",
       "      <td>60.0</td>\n",
       "      <td>...</td>\n",
       "      <td>2574.10</td>\n",
       "      <td>44656.34</td>\n",
       "      <td>Active</td>\n",
       "      <td>38.0</td>\n",
       "      <td>Education</td>\n",
       "      <td>2034-10-26</td>\n",
       "      <td>Not NPL</td>\n",
       "      <td>6.596029</td>\n",
       "      <td>0.127138</td>\n",
       "      <td>1</td>\n",
       "    </tr>\n",
       "    <tr>\n",
       "      <th>2</th>\n",
       "      <td>ID_3</td>\n",
       "      <td>5</td>\n",
       "      <td>7756.305</td>\n",
       "      <td>9580.26</td>\n",
       "      <td>6456.11575</td>\n",
       "      <td>LN20242270000144475</td>\n",
       "      <td>Venus</td>\n",
       "      <td>Female</td>\n",
       "      <td>41</td>\n",
       "      <td>60.0</td>\n",
       "      <td>...</td>\n",
       "      <td>1864.91</td>\n",
       "      <td>266.13</td>\n",
       "      <td>Settled</td>\n",
       "      <td>38.0</td>\n",
       "      <td>Debt consolidation</td>\n",
       "      <td>2059-08-24</td>\n",
       "      <td>Not NPL</td>\n",
       "      <td>4.647012</td>\n",
       "      <td>0.992616</td>\n",
       "      <td>1</td>\n",
       "    </tr>\n",
       "    <tr>\n",
       "      <th>3</th>\n",
       "      <td>ID_5</td>\n",
       "      <td>27</td>\n",
       "      <td>7756.305</td>\n",
       "      <td>9580.26</td>\n",
       "      <td>6456.11575</td>\n",
       "      <td>LN20232570000106355</td>\n",
       "      <td>Venus</td>\n",
       "      <td>Female</td>\n",
       "      <td>36</td>\n",
       "      <td>24.0</td>\n",
       "      <td>...</td>\n",
       "      <td>2113.57</td>\n",
       "      <td>3219.25</td>\n",
       "      <td>Active</td>\n",
       "      <td>35.0</td>\n",
       "      <td>Personal Use</td>\n",
       "      <td>2030-08-28</td>\n",
       "      <td>Not NPL</td>\n",
       "      <td>3.700892</td>\n",
       "      <td>0.887852</td>\n",
       "      <td>1</td>\n",
       "    </tr>\n",
       "    <tr>\n",
       "      <th>4</th>\n",
       "      <td>ID_6</td>\n",
       "      <td>29</td>\n",
       "      <td>7756.305</td>\n",
       "      <td>9580.26</td>\n",
       "      <td>2294.06200</td>\n",
       "      <td>LN20243620000161297</td>\n",
       "      <td>Woodlawn</td>\n",
       "      <td>Male</td>\n",
       "      <td>32</td>\n",
       "      <td>60.0</td>\n",
       "      <td>...</td>\n",
       "      <td>3505.83</td>\n",
       "      <td>67360.79</td>\n",
       "      <td>Active</td>\n",
       "      <td>38.0</td>\n",
       "      <td>Building/Purchase home</td>\n",
       "      <td>2042-07-17</td>\n",
       "      <td>Not NPL</td>\n",
       "      <td>9.126391</td>\n",
       "      <td>0.048403</td>\n",
       "      <td>1</td>\n",
       "    </tr>\n",
       "  </tbody>\n",
       "</table>\n",
       "<p>5 rows × 25 columns</p>\n",
       "</div>"
      ],
      "text/plain": [
       "  ID number  Personnel Number  Basic Salary  Payment  AFFORDABILITY  \\\n",
       "0      ID_1             50403      7756.305  7910.80     3940.00000   \n",
       "1      ID_2             50422      7756.305  3657.80        0.00000   \n",
       "2      ID_3                 5      7756.305  9580.26     6456.11575   \n",
       "3      ID_5                27      7756.305  9580.26     6456.11575   \n",
       "4      ID_6                29      7756.305  9580.26     2294.06200   \n",
       "\n",
       "                LoanId   Regions  Gender  Age  Tenure  ... Instalment  \\\n",
       "0  LN20242200000143311     Venus    Male   34     6.0  ...    1713.56   \n",
       "1  LN20240240000119983   Gilmore  Female   46    60.0  ...    2574.10   \n",
       "2  LN20242270000144475     Venus  Female   41    60.0  ...    1864.91   \n",
       "3  LN20232570000106355     Venus  Female   36    24.0  ...    2113.57   \n",
       "4  LN20243620000161297  Woodlawn    Male   32    60.0  ...    3505.83   \n",
       "\n",
       "   PrincipalBalance  LoanStatus InterestRate             LoanPurpose  \\\n",
       "0           7704.47      Active         33.0        Home improvement   \n",
       "1          44656.34      Active         38.0               Education   \n",
       "2            266.13     Settled         38.0      Debt consolidation   \n",
       "3           3219.25      Active         35.0            Personal Use   \n",
       "4          67360.79      Active         38.0  Building/Purchase home   \n",
       "\n",
       "   RetirementDate    IsNPL DebtToIncome  PrincipalPaidPct HighSalaryFlag  \n",
       "0      2038-07-02  Not NPL     0.993317          0.000000              1  \n",
       "1      2034-10-26  Not NPL     6.596029          0.127138              1  \n",
       "2      2059-08-24  Not NPL     4.647012          0.992616              1  \n",
       "3      2030-08-28  Not NPL     3.700892          0.887852              1  \n",
       "4      2042-07-17  Not NPL     9.126391          0.048403              1  \n",
       "\n",
       "[5 rows x 25 columns]"
      ]
     },
     "execution_count": 1,
     "metadata": {},
     "output_type": "execute_result"
    }
   ],
   "source": [
    "import os\n",
    "import pandas as pd\n",
    "from dotenv import load_dotenv\n",
    "\n",
    "# local helpers\n",
    "import sys\n",
    "sys.path.append(os.path.abspath(\"..\"))\n",
    "from src.modeling import (\n",
    "    load_features, infer_feature_types, time_aware_split,\n",
    "    try_baselines, residual_plots, linear_coeff_table\n",
    ")\n",
    "\n",
    "load_dotenv()\n",
    "\n",
    "# Load features produced in Stage 09\n",
    "df = load_features()  # reads FEATURES_DATA_CSV from .env\n",
    "\n",
    "print(df.shape)\n",
    "df.head()\n"
   ]
  },
  {
   "cell_type": "code",
   "execution_count": 2,
   "id": "b55ccb80-97f3-43d7-aa0b-f3119e31ce89",
   "metadata": {},
   "outputs": [
    {
     "name": "stdout",
     "output_type": "stream",
     "text": [
      "CWD: C:\\Users\\qochi\\bootcamp_millicent_qochiwa\\project\\notebooks\n"
     ]
    }
   ],
   "source": [
    "import os\n",
    "print(\"CWD:\", os.getcwd())\n"
   ]
  },
  {
   "cell_type": "code",
   "execution_count": 3,
   "id": "efa4cf94-0ba8-4f7b-acc3-adef5730a449",
   "metadata": {},
   "outputs": [
    {
     "name": "stdout",
     "output_type": "stream",
     "text": [
      "Rows after dropping missing target: 17718\n"
     ]
    }
   ],
   "source": [
    "TARGET = \"AFFORDABILITY\"\n",
    "df = df[df[TARGET].notna()].copy()\n",
    "print(\"Rows after dropping missing target:\", len(df))\n"
   ]
  },
  {
   "cell_type": "code",
   "execution_count": 4,
   "id": "51c7c63d-affa-4d5b-8d02-1cf6cc95c4c4",
   "metadata": {},
   "outputs": [
    {
     "name": "stdout",
     "output_type": "stream",
     "text": [
      "float64\n",
      "[3940.         0.      6456.11575 2294.062   4965.988   4430.58\n",
      "  914.658   5460.932     93.262   4101.862   2581.272   4278.348\n",
      " 1232.64    1611.662   4842.358   6265.958   3031.748    200.456\n",
      " 4697.078   1625.65   ]\n"
     ]
    }
   ],
   "source": [
    "print(df[\"AFFORDABILITY\"].dtype)\n",
    "print(df[\"AFFORDABILITY\"].unique()[:20])  # first 20 unique values\n"
   ]
  },
  {
   "cell_type": "code",
   "execution_count": 5,
   "id": "c1ad2a4f-c9aa-4c21-b915-296921d024d3",
   "metadata": {},
   "outputs": [
    {
     "name": "stdout",
     "output_type": "stream",
     "text": [
      "Numeric: ['Basic Salary', 'Payment', 'Age', 'Tenure', 'LoanAmount', 'DisbursementAmount', 'Instalment', 'PrincipalBalance', 'InterestRate', 'DebtToIncome'] ...\n",
      "Categorical: ['Regions', 'Gender', 'LoanStatus', 'LoanPurpose', 'IsNPL'] ...\n",
      "Dropped by name pattern: ['ID number', 'Personnel Number', 'LoanId', 'LoanDate', 'DisbursementDate', 'LastPaymentDate', 'RetirementDate', 'PrincipalPaidPct']\n"
     ]
    }
   ],
   "source": [
    "train_df, test_df = time_aware_split(df, date_col=\"LoanDate\", test_size=0.2)\n",
    "\n",
    "num_cols, cat_cols, dropped = infer_feature_types(train_df, target=TARGET)\n",
    "print(\"Numeric:\", num_cols[:10], \"...\")\n",
    "print(\"Categorical:\", cat_cols[:10], \"...\")\n",
    "print(\"Dropped by name pattern:\", dropped)\n",
    "\n",
    "X_train = train_df[num_cols + cat_cols]\n",
    "y_train = train_df[TARGET]\n",
    "X_test  = test_df[num_cols + cat_cols]\n",
    "y_test  = test_df[TARGET]\n"
   ]
  },
  {
   "cell_type": "code",
   "execution_count": 6,
   "id": "e66f4c93-bdc6-4959-a3d8-ce19fd1e2540",
   "metadata": {},
   "outputs": [
    {
     "data": {
      "text/html": [
       "<div>\n",
       "<style scoped>\n",
       "    .dataframe tbody tr th:only-of-type {\n",
       "        vertical-align: middle;\n",
       "    }\n",
       "\n",
       "    .dataframe tbody tr th {\n",
       "        vertical-align: top;\n",
       "    }\n",
       "\n",
       "    .dataframe thead th {\n",
       "        text-align: right;\n",
       "    }\n",
       "</style>\n",
       "<table border=\"1\" class=\"dataframe\">\n",
       "  <thead>\n",
       "    <tr style=\"text-align: right;\">\n",
       "      <th></th>\n",
       "      <th>model</th>\n",
       "      <th>MAE</th>\n",
       "      <th>RMSE</th>\n",
       "      <th>R2</th>\n",
       "    </tr>\n",
       "  </thead>\n",
       "  <tbody>\n",
       "    <tr>\n",
       "      <th>3</th>\n",
       "      <td>RandomForest</td>\n",
       "      <td>108.479435</td>\n",
       "      <td>315.628180</td>\n",
       "      <td>0.971442</td>\n",
       "    </tr>\n",
       "    <tr>\n",
       "      <th>0</th>\n",
       "      <td>Linear</td>\n",
       "      <td>172.265590</td>\n",
       "      <td>360.657134</td>\n",
       "      <td>0.962712</td>\n",
       "    </tr>\n",
       "    <tr>\n",
       "      <th>1</th>\n",
       "      <td>RidgeCV</td>\n",
       "      <td>172.568904</td>\n",
       "      <td>360.769671</td>\n",
       "      <td>0.962689</td>\n",
       "    </tr>\n",
       "    <tr>\n",
       "      <th>2</th>\n",
       "      <td>LassoCV</td>\n",
       "      <td>171.466669</td>\n",
       "      <td>361.057903</td>\n",
       "      <td>0.962629</td>\n",
       "    </tr>\n",
       "  </tbody>\n",
       "</table>\n",
       "</div>"
      ],
      "text/plain": [
       "          model         MAE        RMSE        R2\n",
       "3  RandomForest  108.479435  315.628180  0.971442\n",
       "0        Linear  172.265590  360.657134  0.962712\n",
       "1       RidgeCV  172.568904  360.769671  0.962689\n",
       "2       LassoCV  171.466669  361.057903  0.962629"
      ]
     },
     "execution_count": 6,
     "metadata": {},
     "output_type": "execute_result"
    }
   ],
   "source": [
    "metrics_df, fitted = try_baselines(X_train, y_train, X_test, y_test, num_cols, cat_cols)\n",
    "metrics_df\n"
   ]
  },
  {
   "cell_type": "code",
   "execution_count": 9,
   "id": "d6a14153-82bb-418a-be4f-36fda09a3e5f",
   "metadata": {},
   "outputs": [],
   "source": [
    "# # Choose the best (lowest RMSE) or a linear model for interpretability\n",
    "# best_name = metrics_df.iloc[0][\"model\"]\n",
    "# pipe, yhat = fitted[best_name]\n",
    "# print(\"Chosen model:\", best_name)\n",
    "\n",
    "# # Diagnostics\n",
    "# residual_plots(y_test.values, yhat, title_prefix=best_name)\n",
    "\n",
    "# # Coefficients if linear-type\n",
    "# if best_name in (\"Linear\", \"RidgeCV\", \"LassoCV\"):\n",
    "#     coef_df = linear_coeff_table(pipe)\n",
    "#     coef_df.head(25)\n"
   ]
  },
  {
   "cell_type": "code",
   "execution_count": 8,
   "id": "2a1e6fc5-9183-48c2-aed3-9dfa428d98c6",
   "metadata": {},
   "outputs": [
    {
     "data": {
      "text/plain": [
       "'../data/processed/stage10a_predictions.csv'"
      ]
     },
     "execution_count": 8,
     "metadata": {},
     "output_type": "execute_result"
    }
   ],
   "source": [
    "# Save predictions for inspection\n",
    "pred_out = test_df[[\"LoanId\"]].copy() if \"LoanId\" in test_df.columns else test_df.iloc[:, :1].copy()\n",
    "pred_out[\"y_true\"] = y_test.values\n",
    "pred_out[\"y_pred\"] = yhat\n",
    "os.makedirs(\"../data/processed\", exist_ok=True)\n",
    "pred_path = \"../data/processed/stage10a_predictions.csv\"\n",
    "pred_out.to_csv(pred_path, index=False)\n",
    "pred_path\n"
   ]
  },
  {
   "cell_type": "code",
   "execution_count": null,
   "id": "247dff9d-e5d5-49ab-a2b5-233073901a33",
   "metadata": {},
   "outputs": [],
   "source": []
  }
 ],
 "metadata": {
  "kernelspec": {
   "display_name": "Python 3 (bootcamp_env)",
   "language": "python",
   "name": "bootcamp_env"
  },
  "language_info": {
   "codemirror_mode": {
    "name": "ipython",
    "version": 3
   },
   "file_extension": ".py",
   "mimetype": "text/x-python",
   "name": "python",
   "nbconvert_exporter": "python",
   "pygments_lexer": "ipython3",
   "version": "3.10.18"
  }
 },
 "nbformat": 4,
 "nbformat_minor": 5
}

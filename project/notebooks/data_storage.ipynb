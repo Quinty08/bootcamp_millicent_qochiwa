{
 "cells": [
  {
   "cell_type": "code",
   "execution_count": 3,
   "id": "894b313d-c24a-4ec9-a517-25c3c2711752",
   "metadata": {},
   "outputs": [
    {
     "name": "stdout",
     "output_type": "stream",
     "text": [
      "Working directory: C:\\Users\\qochi\\bootcamp_millicent_qochiwa\\project\\notebooks\n",
      "File loaded successfully: (20875, 10)\n"
     ]
    }
   ],
   "source": [
    "import pandas as pd\n",
    "import os\n",
    "\n",
    "# Print working directory (just for clarity)\n",
    "print(\"Working directory:\", os.getcwd())\n",
    "\n",
    "file_path = \"../data/raw/raw_loan_data.xlsx\"\n",
    "\n",
    "# Check if file exists before loading\n",
    "if os.path.exists(file_path):\n",
    "    df = pd.read_excel(file_path)\n",
    "    print(\"File loaded successfully:\", df.shape)\n",
    "else:\n",
    "    print(\"File not found at:\", file_path)\n"
   ]
  },
  {
   "cell_type": "code",
   "execution_count": 5,
   "id": "e9bc013a-88c8-486a-8b97-72f8f5f5e0da",
   "metadata": {},
   "outputs": [
    {
     "name": "stdout",
     "output_type": "stream",
     "text": [
      "Files saved in data/raw/: raw_loan_data.csv + raw_loan_data.parquet\n"
     ]
    }
   ],
   "source": [
    "df[\"LoanId\"] = df[\"LoanId\"].astype(str)\n",
    "\n",
    "\n",
    "# Save as CSV\n",
    "df.to_csv(\"../data/raw/raw_loan_data.csv\", index=False)\n",
    "\n",
    "# Save as Parquet\n",
    "df.to_parquet(\"../data/raw/raw_loan_data.parquet\", index=False)\n",
    "\n",
    "print(\"Files saved in data/raw/: raw_loan_data.csv + raw_loan_data.parquet\")\n"
   ]
  },
  {
   "cell_type": "code",
   "execution_count": null,
   "id": "fca34381-c04e-4b1f-a024-a54648eb9cee",
   "metadata": {},
   "outputs": [],
   "source": []
  }
 ],
 "metadata": {
  "kernelspec": {
   "display_name": "Python 3 (bootcamp_env)",
   "language": "python",
   "name": "bootcamp_env"
  },
  "language_info": {
   "codemirror_mode": {
    "name": "ipython",
    "version": 3
   },
   "file_extension": ".py",
   "mimetype": "text/x-python",
   "name": "python",
   "nbconvert_exporter": "python",
   "pygments_lexer": "ipython3",
   "version": "3.10.18"
  }
 },
 "nbformat": 4,
 "nbformat_minor": 5
}

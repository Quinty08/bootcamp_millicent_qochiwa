{
 "cells": [
  {
   "cell_type": "code",
   "execution_count": 1,
   "id": "8b10fe1c-8016-471a-bb55-65b852c5e076",
   "metadata": {},
   "outputs": [],
   "source": [
    "import pandas as pd\n",
    "import numpy as np\n",
    "import matplotlib.pyplot as plt\n",
    "import random\n"
   ]
  },
  {
   "cell_type": "markdown",
   "id": "774f163b-31b4-431a-8417-617969220e26",
   "metadata": {},
   "source": [
    "**NUMPY OPERATIONS**"
   ]
  },
  {
   "cell_type": "code",
   "execution_count": 2,
   "id": "654ac8d0-7f2f-4962-9b43-1f1ccef4ae6b",
   "metadata": {},
   "outputs": [
    {
     "data": {
      "text/plain": [
       "array([ 24300000, 130691232,  20511149,  52521875])"
      ]
     },
     "execution_count": 2,
     "metadata": {},
     "output_type": "execute_result"
    }
   ],
   "source": [
    "array = np.array([30,42,29,35])\n",
    "\n",
    "array_vector=array**5\n",
    "array_vector"
   ]
  },
  {
   "cell_type": "code",
   "execution_count": 3,
   "id": "15a807e2-1110-4cbf-b583-5aa6b662763e",
   "metadata": {},
   "outputs": [
    {
     "data": {
      "text/plain": [
       "[np.int64(24300000),\n",
       " np.int64(130691232),\n",
       " np.int64(20511149),\n",
       " np.int64(52521875)]"
      ]
     },
     "execution_count": 3,
     "metadata": {},
     "output_type": "execute_result"
    }
   ],
   "source": [
    "array = np.array([30,42,29,35])\n",
    "loop_results=[]\n",
    "\n",
    "for x in array:\n",
    "    result = x**5\n",
    "    loop_results.append(result)\n",
    "\n",
    "loop_results"
   ]
  },
  {
   "cell_type": "markdown",
   "id": "2e30d8c4-600c-4b0c-b128-0161f9c078c2",
   "metadata": {},
   "source": [
    "**GENERATING DUMMY LOAN DATA - GENDER AND AGE DISTRIBUTION OF CLIENTS**"
   ]
  },
  {
   "cell_type": "code",
   "execution_count": 4,
   "id": "57cd81f9-b1f0-4ee4-a200-630ddd39ecc2",
   "metadata": {},
   "outputs": [
    {
     "data": {
      "text/html": [
       "<div>\n",
       "<style scoped>\n",
       "    .dataframe tbody tr th:only-of-type {\n",
       "        vertical-align: middle;\n",
       "    }\n",
       "\n",
       "    .dataframe tbody tr th {\n",
       "        vertical-align: top;\n",
       "    }\n",
       "\n",
       "    .dataframe thead th {\n",
       "        text-align: right;\n",
       "    }\n",
       "</style>\n",
       "<table border=\"1\" class=\"dataframe\">\n",
       "  <thead>\n",
       "    <tr style=\"text-align: right;\">\n",
       "      <th></th>\n",
       "      <th>Gender</th>\n",
       "      <th>Age</th>\n",
       "    </tr>\n",
       "  </thead>\n",
       "  <tbody>\n",
       "    <tr>\n",
       "      <th>35</th>\n",
       "      <td>Male</td>\n",
       "      <td>45</td>\n",
       "    </tr>\n",
       "    <tr>\n",
       "      <th>36</th>\n",
       "      <td>Male</td>\n",
       "      <td>40</td>\n",
       "    </tr>\n",
       "    <tr>\n",
       "      <th>37</th>\n",
       "      <td>Female</td>\n",
       "      <td>54</td>\n",
       "    </tr>\n",
       "    <tr>\n",
       "      <th>38</th>\n",
       "      <td>Female</td>\n",
       "      <td>38</td>\n",
       "    </tr>\n",
       "    <tr>\n",
       "      <th>39</th>\n",
       "      <td>Female</td>\n",
       "      <td>25</td>\n",
       "    </tr>\n",
       "  </tbody>\n",
       "</table>\n",
       "</div>"
      ],
      "text/plain": [
       "    Gender  Age\n",
       "35    Male   45\n",
       "36    Male   40\n",
       "37  Female   54\n",
       "38  Female   38\n",
       "39  Female   25"
      ]
     },
     "execution_count": 4,
     "metadata": {},
     "output_type": "execute_result"
    }
   ],
   "source": [
    "# Generate 40 random ages between 18 and 65\n",
    "ages = [random.randint(18, 65) for _ in range(40)]\n",
    "\n",
    "# Generate 40 random genders\n",
    "genders = [random.choice(['Male', 'Female']) for _ in range(40)]\n",
    "\n",
    "# Create the DataFrame\n",
    "df = pd.DataFrame({\n",
    "    'Gender': genders,\n",
    "    'Age': ages\n",
    "})\n",
    "\n",
    "\n",
    "df.to_csv('../data/Age_vs_gender_dummydata.csv')\n",
    "df.tail()"
   ]
  },
  {
   "cell_type": "markdown",
   "id": "453adc8f-c4c4-4614-baae-56bf4f5b7c2d",
   "metadata": {},
   "source": [
    "**SUMMARIES OF LOAN DATA**"
   ]
  },
  {
   "cell_type": "code",
   "execution_count": 6,
   "id": "bd16e99b-6105-4483-8a65-fe7e4a02057e",
   "metadata": {},
   "outputs": [
    {
     "data": {
      "text/html": [
       "<div>\n",
       "<style scoped>\n",
       "    .dataframe tbody tr th:only-of-type {\n",
       "        vertical-align: middle;\n",
       "    }\n",
       "\n",
       "    .dataframe tbody tr th {\n",
       "        vertical-align: top;\n",
       "    }\n",
       "\n",
       "    .dataframe thead th {\n",
       "        text-align: right;\n",
       "    }\n",
       "</style>\n",
       "<table border=\"1\" class=\"dataframe\">\n",
       "  <thead>\n",
       "    <tr style=\"text-align: right;\">\n",
       "      <th></th>\n",
       "      <th>Age</th>\n",
       "    </tr>\n",
       "  </thead>\n",
       "  <tbody>\n",
       "    <tr>\n",
       "      <th>count</th>\n",
       "      <td>40.000000</td>\n",
       "    </tr>\n",
       "    <tr>\n",
       "      <th>mean</th>\n",
       "      <td>41.650000</td>\n",
       "    </tr>\n",
       "    <tr>\n",
       "      <th>std</th>\n",
       "      <td>15.311383</td>\n",
       "    </tr>\n",
       "    <tr>\n",
       "      <th>min</th>\n",
       "      <td>18.000000</td>\n",
       "    </tr>\n",
       "    <tr>\n",
       "      <th>25%</th>\n",
       "      <td>29.500000</td>\n",
       "    </tr>\n",
       "    <tr>\n",
       "      <th>50%</th>\n",
       "      <td>42.500000</td>\n",
       "    </tr>\n",
       "    <tr>\n",
       "      <th>75%</th>\n",
       "      <td>52.500000</td>\n",
       "    </tr>\n",
       "    <tr>\n",
       "      <th>max</th>\n",
       "      <td>65.000000</td>\n",
       "    </tr>\n",
       "  </tbody>\n",
       "</table>\n",
       "</div>"
      ],
      "text/plain": [
       "             Age\n",
       "count  40.000000\n",
       "mean   41.650000\n",
       "std    15.311383\n",
       "min    18.000000\n",
       "25%    29.500000\n",
       "50%    42.500000\n",
       "75%    52.500000\n",
       "max    65.000000"
      ]
     },
     "execution_count": 6,
     "metadata": {},
     "output_type": "execute_result"
    }
   ],
   "source": [
    "df.to_csv('../data/describe_summary.csv')\n",
    "\n",
    "df.describe()\n"
   ]
  },
  {
   "cell_type": "code",
   "execution_count": 7,
   "id": "1c26d5a5-f49d-4802-9eb8-92815c6cde20",
   "metadata": {},
   "outputs": [
    {
     "name": "stdout",
     "output_type": "stream",
     "text": [
      "     count   first\n",
      "Age               \n",
      "18       2  Female\n",
      "19       4    Male\n",
      "21       1    Male\n",
      "25       3  Female\n",
      "31       1  Female\n",
      "32       1  Female\n",
      "35       1  Female\n",
      "36       2    Male\n",
      "38       1  Female\n",
      "39       1    Male\n",
      "40       3    Male\n",
      "45       2  Female\n",
      "46       3  Female\n",
      "48       1  Female\n",
      "50       2  Female\n",
      "52       2    Male\n",
      "54       1  Female\n",
      "56       1    Male\n",
      "60       1  Female\n",
      "61       1  Female\n",
      "62       2  Female\n",
      "63       1    Male\n",
      "64       2  Female\n",
      "65       1  Female\n"
     ]
    }
   ],
   "source": [
    "df_age_grouped = df.groupby(\"Age\")['Gender'].agg(['count', 'first'])\n",
    "print(df_age_grouped)\n"
   ]
  },
  {
   "cell_type": "code",
   "execution_count": 8,
   "id": "b41dc066-6781-4b6c-9eec-477ee4840ae6",
   "metadata": {},
   "outputs": [
    {
     "data": {
      "image/png": "[encoded data removed]",
      "text/plain": [
       "<Figure size 640x480 with 1 Axes>"
      ]
     },
     "metadata": {},
     "output_type": "display_data"
    }
   ],
   "source": [
    "# Aggregate: calculate average age per gender\n",
    "df_grouped = df.groupby('Gender')['Age'].mean()\n",
    "\n",
    "# Plot\n",
    "df_grouped.plot(kind='bar', color=['skyblue', 'pink'])\n",
    "plt.ylabel('Average Age')\n",
    "plt.title('Average Age by Gender')\n",
    "plt.savefig('../data/Average_age_by_gender.png')\n",
    "plt.show()"
   ]
  },
  {
   "cell_type": "markdown",
   "id": "df13a8b1-c336-4a84-9117-ce1142b9b681",
   "metadata": {},
   "source": [
    "**IMPORTING UTILITY FUNCTIONS**"
   ]
  },
  {
   "cell_type": "code",
   "execution_count": 9,
   "id": "98374ec0-4182-46bb-9b64-276947cef5e3",
   "metadata": {},
   "outputs": [
    {
     "data": {
      "text/html": [
       "<div>\n",
       "<style scoped>\n",
       "    .dataframe tbody tr th:only-of-type {\n",
       "        vertical-align: middle;\n",
       "    }\n",
       "\n",
       "    .dataframe tbody tr th {\n",
       "        vertical-align: top;\n",
       "    }\n",
       "\n",
       "    .dataframe thead th {\n",
       "        text-align: right;\n",
       "    }\n",
       "</style>\n",
       "<table border=\"1\" class=\"dataframe\">\n",
       "  <thead>\n",
       "    <tr style=\"text-align: right;\">\n",
       "      <th></th>\n",
       "      <th>age</th>\n",
       "    </tr>\n",
       "  </thead>\n",
       "  <tbody>\n",
       "    <tr>\n",
       "      <th>count</th>\n",
       "      <td>40.000000</td>\n",
       "    </tr>\n",
       "    <tr>\n",
       "      <th>mean</th>\n",
       "      <td>41.650000</td>\n",
       "    </tr>\n",
       "    <tr>\n",
       "      <th>std</th>\n",
       "      <td>15.311383</td>\n",
       "    </tr>\n",
       "    <tr>\n",
       "      <th>min</th>\n",
       "      <td>18.000000</td>\n",
       "    </tr>\n",
       "    <tr>\n",
       "      <th>25%</th>\n",
       "      <td>29.500000</td>\n",
       "    </tr>\n",
       "    <tr>\n",
       "      <th>50%</th>\n",
       "      <td>42.500000</td>\n",
       "    </tr>\n",
       "    <tr>\n",
       "      <th>75%</th>\n",
       "      <td>52.500000</td>\n",
       "    </tr>\n",
       "    <tr>\n",
       "      <th>max</th>\n",
       "      <td>65.000000</td>\n",
       "    </tr>\n",
       "  </tbody>\n",
       "</table>\n",
       "</div>"
      ],
      "text/plain": [
       "             age\n",
       "count  40.000000\n",
       "mean   41.650000\n",
       "std    15.311383\n",
       "min    18.000000\n",
       "25%    29.500000\n",
       "50%    42.500000\n",
       "75%    52.500000\n",
       "max    65.000000"
      ]
     },
     "execution_count": 9,
     "metadata": {},
     "output_type": "execute_result"
    }
   ],
   "source": [
    "import sys\n",
    "import os\n",
    "\n",
    "# Adding the parent folder (project03) to sys.path\n",
    "sys.path.append(os.path.abspath(os.path.join(\"..\")))\n",
    "\n",
    "from src.utils import get_summary_stats, clean_column_names\n",
    "\n",
    "\n",
    "# Example usage\n",
    "clean_df = clean_column_names(df)\n",
    "get_summary_stats(clean_df)"
   ]
  },
  {
   "cell_type": "code",
   "execution_count": null,
   "id": "72250369-564f-4767-9eb9-6ee19a7f45e6",
   "metadata": {},
   "outputs": [],
   "source": []
  }
 ],
 "metadata": {
  "kernelspec": {
   "display_name": "Python 3 (bootcamp_env)",
   "language": "python",
   "name": "bootcamp_env"
  },
  "language_info": {
   "codemirror_mode": {
    "name": "ipython",
    "version": 3
   },
   "file_extension": ".py",
   "mimetype": "text/x-python",
   "name": "python",
   "nbconvert_exporter": "python",
   "pygments_lexer": "ipython3",
   "version": "3.10.18"
  }
 },
 "nbformat": 4,
 "nbformat_minor": 5
}
